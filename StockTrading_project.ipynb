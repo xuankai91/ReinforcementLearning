{
  "nbformat": 4,
  "nbformat_minor": 0,
  "metadata": {
    "colab": {
      "name": "StockTrading_project.ipynb",
      "provenance": [],
      "collapsed_sections": [
        "3QMS9OAGiuhz"
      ],
      "authorship_tag": "ABX9TyOwYamB3vL0UAZpcKi7uQ/w",
      "include_colab_link": true
    },
    "kernelspec": {
      "name": "python3",
      "display_name": "Python 3"
    },
    "language_info": {
      "name": "python"
    }
  },
  "cells": [
    {
      "cell_type": "markdown",
      "metadata": {
        "id": "view-in-github",
        "colab_type": "text"
      },
      "source": [
        "<a href=\"https://colab.research.google.com/github/xuankai91/ReinforcementLearning/blob/main/StockTrading_project.ipynb\" target=\"_parent\"><img src=\"https://colab.research.google.com/assets/colab-badge.svg\" alt=\"Open In Colab\"/></a>"
      ]
    },
    {
      "cell_type": "code",
      "metadata": {
        "id": "pLaNOAcfvBh2"
      },
      "source": [
        "import numpy as np\n",
        "import pandas as pd\n",
        "import matplotlib.pyplot as plt\n",
        "\n",
        "from sklearn.preprocessing import StandardScaler\n",
        "\n",
        "from datetime import datetime\n",
        "import itertools\n",
        "import argparse\n",
        "import os\n",
        "import re\n",
        "import pickle"
      ],
      "execution_count": 1,
      "outputs": []
    },
    {
      "cell_type": "markdown",
      "metadata": {
        "id": "eW8NloqZvPbl"
      },
      "source": [
        "# Environment overview"
      ]
    },
    {
      "cell_type": "markdown",
      "metadata": {
        "id": "BaMoF0u6vSpJ"
      },
      "source": [
        "For this project, we focus on the trading of three stocks: Apple Inc. (AAPL), Motorola, Inc. (MSI), & Starbucks Corporation (SBUX).\n",
        "\n",
        "---\n",
        "**State**\n",
        "\n",
        "the state vector contains\n",
        " 1. How many shares of each owned stock\n",
        " 2. Current price of each stock\n",
        " 3. How much uninvested cash available\n",
        "\n",
        "therefore, $\\mathcal{S} \\in \\Bbb{R}^{7}$\n",
        "\n",
        "---\n",
        "**Action**\n",
        "\n",
        "Based on the All-or-nothing approach. For each share, we can\n",
        " 1. Buy - buy as many shares as possible (round robin, buy 1 share per round)\n",
        " 2. Sell - sell all shares of the stock that is owned\n",
        " 3. Hodl\n",
        "\n",
        "thus $\\mathcal{A} \\in \\Bbb{R}^{27}$\n",
        "\n",
        "We assume no transaction costs (i.e. spread). Furthermore, we specify the order of actions such that our agent will sell stocks we want to sell before we buy any more. \n",
        "\n",
        "---\n",
        "**Reward**\n",
        "\n",
        "Change in the value of portfolio from one step ($s$) to the next ($s'$), and is simply calculated\n",
        "\n",
        "$$\\text{portfolio value} = \\text{number of shares} * \\text{price} + \\text{uninvested cash}$$\n",
        "\n",
        "---"
      ]
    },
    {
      "cell_type": "code",
      "metadata": {
        "id": "kF_S53Y-uhvh"
      },
      "source": [
        "class StockEnv:\n",
        "  def __init__(self,data,initial_investment = 20000):\n",
        "    # data\n",
        "    '''\n",
        "    this is the historical price data of three stocks - AAPL, MSI, SBUX - at daily closing\n",
        "    '''\n",
        "    self.stock_price_history = data\n",
        "    self.n_step, self.n_stock = self.stock_price_history.shape\n",
        "\n",
        "    # instance attributes\n",
        "    self.initial_investment = initial_investment\n",
        "    self.curr_step = None\n",
        "    \n",
        "    # state space\n",
        "    '''\n",
        "    state is a 7-tuple consisting of the following entries, in order:\n",
        "     - quantities of each of the three stocks owned (3 entries)\n",
        "     - price of each of the three stocks owned (3 entries)\n",
        "     - cash owned (1 entry)\n",
        "    '''\n",
        "    self.stock_owned = None\n",
        "    self.stock_price = None\n",
        "    self.cash_in_hand = None\n",
        "\n",
        "    self.state_dim = 2*self.n_stock + 1\n",
        "\n",
        "    # action space\n",
        "    '''\n",
        "    for each stock, the actions that can be performed is:\n",
        "      0 = sell\n",
        "      1 = hodl\n",
        "      2 = buy\n",
        "    the permutations will then be an action list, such that, for e.g.\n",
        "     - [0,0,0]: sell AAPL, sell MSI, sell SBUX\n",
        "     - [2,0,1]: buy AAPL, sell MSI, hodl SBUX\n",
        "    '''\n",
        "    self.action_space = np.arange(3**self.n_stock)\n",
        "    self.action_list = list(map(list,itertools.product([0,1,2],repeat = self.n_stock)))\n",
        "    \n",
        "    # reset\n",
        "    self.reset()\n",
        "   \n",
        "  ## --------------------------------------------------------------------- ##\n",
        "  # the design of this environment conforms to the format by OpenAI gym\n",
        "\n",
        "  def reset(self):\n",
        "    self.curr_step = 0\n",
        "    self.stock_owned = np.zeros(self.n_stock)\n",
        "    self.stock_price = self.stock_price_history[self.curr_step] #by rows\n",
        "    self.cash_in_hand = self.initial_investment\n",
        "    return self._get_obs()\n",
        "\n",
        "  def step(self,action):\n",
        "    assert action in self.action_space\n",
        "\n",
        "    # get current Qvalue before performing the action\n",
        "    prev_val = self._get_val()\n",
        "\n",
        "    # update price, i.e. go to next day\n",
        "    self.curr_step += 1\n",
        "    self.stock_price = self.stock_price_history[self.curr_step]\n",
        "\n",
        "    # perform the trade\n",
        "    self._trade(action)\n",
        "\n",
        "    # get new value after taking the action\n",
        "    curr_val = self._get_val()\n",
        "\n",
        "    # reward(increase in portfolio value)\n",
        "    reward = curr_val - prev_val \n",
        "    \n",
        "    # if we have ran out of data, terminate episode\n",
        "    done = self.curr_step == self.n_step-1 #return True if at the last step, False otherwise\n",
        "\n",
        "    # store info of current portfolio value\n",
        "    info = {'current_value':curr_val}\n",
        "\n",
        "    # END OF FUNCTION, returns: new_state, reward, done_flag, info\n",
        "    return self._get_obs(), reward, done, info\n",
        "\n",
        "  ## --------------------------------------------------------------------- ##\n",
        "  \n",
        "  def _get_obs(self):\n",
        "    obs = np.empty(self.state_dim)\n",
        "    obs[:self.n_stock] = self.stock_owned\n",
        "    obs[self.n_stock:self.n_stock*2] = self.stock_owned.dot(self.stock_price)\n",
        "    obs[-1] = self.cash_in_hand\n",
        "    return obs\n",
        "\n",
        "  def _get_val(self):\n",
        "    return self.stock_owned.dot(self.stock_price) + self.cash_in_hand\n",
        "\n",
        "  def _trade(self,action):\n",
        "    '''\n",
        "    again, the following keys are:\n",
        "      0: sell\n",
        "      1: hodl\n",
        "      2: buy\n",
        "    we define our trade sequence (for each stock) as follows:\n",
        "      1. sell all of the stocks we want to sell\n",
        "      2. then buy more stocks that we want to buy\n",
        "      3. if hodl, do not do anything\n",
        "    '''\n",
        "    action_vec = self.action_list[action] #action should be an integer, and returns a vector of size 3\n",
        "\n",
        "    # determine which stocks to buy or sell\n",
        "    sell_index = []\n",
        "    buy_index = []\n",
        "    for i,a in enumerate(action_vec):\n",
        "      if a == 0:\n",
        "        sell_index.append(i)\n",
        "      elif a == 2:\n",
        "        buy_index.append(i)\n",
        "\n",
        "    # first, sell stocks we want to sell\n",
        "    if sell_index: #if there are stocks to sell\n",
        "      for idx in sell_index:\n",
        "        self.cash_in_hand += self.stock_owned[idx] * self.stock_price[idx]\n",
        "        self.stock_owned[idx] = 0\n",
        "\n",
        "    # second, we buy stocks that we want to buy\n",
        "    if buy_index: #if there are stocks to buy\n",
        "      can_buy = True\n",
        "      while can_buy: # we loop through each stock we want to buy, and buy 1 share at a time\n",
        "        for idx in buy_index:\n",
        "          if self.cash_in_hand < self.stock_price[idx]: #if can't afford to buy anymore\n",
        "            can_buy = False\n",
        "          else:\n",
        "            self.stock_owned[idx] += 1 #buy 1 share\n",
        "            self.cash_in_hand -= self.stock_price[idx] #deduct price\n",
        "\n",
        "## ------------------------------------------------------------------"
      ],
      "execution_count": 2,
      "outputs": []
    },
    {
      "cell_type": "markdown",
      "metadata": {
        "id": "aKHYWQ77vSNS"
      },
      "source": [
        "# Agent description"
      ]
    },
    {
      "cell_type": "markdown",
      "metadata": {
        "id": "JIaSAXP_6ZRW"
      },
      "source": [
        "---\n",
        "**Function Approximation**\n",
        "\n",
        "* We implement a linear function, analogous to a single layer neural network, with Q-learning to train our RL agent.\n",
        "\n",
        "* As part of learning, we estimate our Q-value as follows:\n",
        "$$\\underbrace{Q(s,\\mathcal{A})}_{|\\mathcal{A}| \\times 1} = \\underbrace{W^{T}}_{|\\mathcal{A}| \\times |\\mathcal{S}|} \\cdot \\underbrace{s}_{|\\mathcal{S}| \\times 1} + \\underbrace{b}_{|\\mathcal{A}| \\times 1}$$\n",
        "which essentially means that we will approximate Q-values for all actions as a vector.\n",
        "\n",
        "* However, as we select only 1 action to execute our next step, we first recognise that the target for Q-learning, $G$ is a scalar.\n",
        "$$G =\n",
        "\\begin{cases}\n",
        "r & \\text{if} \\ s' = s_{T}\n",
        "\\\\ r + \\gamma \\max_{a'}Q(s',a') & \\text{otherwise}\n",
        "\\end{cases}$$\n",
        "\n",
        "* second, the cost function of squared error, $J = (G - W^{T}s)^{2}$, has the gradient\n",
        "$$\\nabla_{w}J = \\frac{2}{N} (G - W^{T}s)s $$\n",
        "\n",
        "* to assist in the implementation of gradient ascent, we expand $G$ into a vector, $G \\in \\Bbb{R}^{|\\mathcal{A}|}$. Thus, if we select action $a_{k}$, we define each element of $G$, indexed by $i$, as such\n",
        "$$g_{i} =\n",
        "\\begin{cases}\n",
        "r + \\gamma \\underbrace{\\max_{a'}Q(s',a')}_{0 \\ \\text{if} \\ s' = s_{T}} & \\text{if} \\ i = k\n",
        "\\\\ Q(s,a) & \\text{otherwise}\n",
        "\\end{cases}$$\n",
        "This ensures that the gradient will be 0 for unselected actions, and thus will not change the weights matrix $W$ at every update except for selected actions.\n",
        "\n",
        "--- \n",
        "**Momentum for SGA**\n",
        "\n",
        "* to speed up convergence of weight updating, we also implment momentum in the form:\n",
        "$$v(t) = \\mu \\cdot v(t-1) - \\eta \\cdot g(t)$$\n",
        "where:\n",
        " * $g(t)$ is the gradient at iteration/step $t$\n",
        " * $\\mu$ is a hyperparameter indicating momentum, recommended to be $\\in [0.9,1]$\n",
        " * $\\eta$ is learning rate\n",
        "* the weights at time $t$ is then updated by\n",
        "$$w(t) \\leftarrow w(t-1) + v(t)$$\n",
        "\n",
        "---\n"
      ]
    },
    {
      "cell_type": "code",
      "metadata": {
        "id": "WB7stZD2e4Nc"
      },
      "source": [
        "# FUNCTION APPROX MODEL\n",
        "class LinearModel:\n",
        "  def __init__(self,input_size,output_size):\n",
        "    '''\n",
        "    This is in the style of a single-layer neural network\n",
        "    input_size should correspond with the length of the state vector\n",
        "    output_size should correspond with the length of the action space\n",
        "    '''\n",
        "\n",
        "    # model weights\n",
        "    self.W = np.random.randn(input_size,output_size)/np.sqrt(input_size)\n",
        "    self.b = np.zeros(output_size)\n",
        "\n",
        "    # momentum\n",
        "    self.vW = 0\n",
        "    self.vb = 0\n",
        "\n",
        "    # losses\n",
        "    self.losses = []\n",
        "\n",
        "  def predict(self,X):\n",
        "    # make sure X is NxD\n",
        "    assert(len(X.shape)==2) #X must at least be a column vector\n",
        "    return X.dot(self.W) + self.b\n",
        "\n",
        "  def gradient_descent(self,X,Y,learning_rate = .01, momentum = .9):\n",
        "    '''\n",
        "    performs gradient descent on the dataset\n",
        "    X should be matrix of states\n",
        "    Y should be the target, r + gamma*Q(s',a') (or just r if s'==0)\n",
        "    '''\n",
        "\n",
        "    # make sure X is NxD\n",
        "    assert(len(X.shape)==2)\n",
        "\n",
        "    # get number of outputs\n",
        "    num_values = np.prod(Y.shape)\n",
        "\n",
        "    # update weights from Q-values\n",
        "    Yhat = self.predict(X) #this is Q(s,a)\n",
        "    gW = 2/num_values * X.T.dot(Yhat-Y) #Y is the target, provided as input\n",
        "    gb = 2/num_values * (Yhat-Y).sum(axis=0) \n",
        "\n",
        "    # update momentum terms\n",
        "    self.vW = momentum * self.vW - learning_rate * gW\n",
        "    self.vb = momentum * self.vb - learning_rate * gb\n",
        "\n",
        "    # update weights\n",
        "    self.W += self.vW\n",
        "    self.b = self.vb\n",
        "\n",
        "    #calculate mse\n",
        "    mse = np.mean((Yhat-Y)**2)\n",
        "    self.losses.append(mse)\n",
        "\n",
        "\n",
        "    def load_weights(self,filename):\n",
        "      npz = np.load(filename)\n",
        "      self.W = npz['W']\n",
        "      self.b = npz['b']\n",
        "\n",
        "    def save_weights(self,filename):\n",
        "      np.savez(filename, W = self.W, b = self.b)\n",
        "\n",
        "\n",
        "## ------------------------------------------------------------------\n",
        "\n"
      ],
      "execution_count": 3,
      "outputs": []
    },
    {
      "cell_type": "code",
      "metadata": {
        "id": "3KpANvftR98E"
      },
      "source": [
        "class DQNAgent():\n",
        "  def __init__(self,state_size,action_size,GAMMA,ALPHA,ETA):\n",
        "    '''\n",
        "    This is the Agent\n",
        "    state_size is the length of the state vector\n",
        "    action_size is the length of the action space\n",
        "    '''\n",
        "\n",
        "    self.state_size = state_size\n",
        "    self.action_size = action_size\n",
        "\n",
        "    # hyperparameters\n",
        "    self.gamma = GAMMA\n",
        "    self.alpha = ALPHA\n",
        "    self.eta = ETA\n",
        "\n",
        "    # policy epsilon; we move from more exploratory to more greedy\n",
        "    self.epsilon = 1.0 \n",
        "    self.epsilon_min = .01\n",
        "    self.epsilon_decay = .995\n",
        "\n",
        "    # define DQN model\n",
        "    self.model = LinearModel(state_size,action_size)\n",
        "  \n",
        "  def get_action(self,state):\n",
        "    if np.random.rand() <= self.epsilon:\n",
        "      return np.random.choice(self.action_size)\n",
        "    else:\n",
        "      action_values = self.model.predict(state)\n",
        "      return np.argmax(action_values.ravel())\n",
        "\n",
        "  def train(self,state,action,reward,next_state,done):\n",
        "    # get estimted returns at terminal state\n",
        "    if done:\n",
        "      target = reward\n",
        "    else:\n",
        "      target = reward + self.gamma * np.amax(self.model.predict(next_state), axis = 1)\n",
        "\n",
        "    # generate vector of estimated returns; update only the entry that corresponds with the chosen action\n",
        "    target_full = self.model.predict(state)\n",
        "    target_full[0,action] = target\n",
        "\n",
        "    # perform one step of gradient descent\n",
        "    self.model.gradient_descent(state, target_full, learning_rate = self.alpha, momentum = self.eta)\n",
        "\n",
        "    # reduce exploration rate\n",
        "    if self.epsilon > self.epsilon_min:\n",
        "      self.epsilon *= self.epsilon_decay\n",
        "\n",
        "  def load(self, filename):\n",
        "    self.model.load_weights(filename)\n",
        "\n",
        "  def save(self, filename):\n",
        "    self.model.save_weights(filename)\n",
        "\n",
        "## ------------------------------------------------------------------\n"
      ],
      "execution_count": 4,
      "outputs": []
    },
    {
      "cell_type": "code",
      "metadata": {
        "id": "Zl-M4-YST9dK"
      },
      "source": [
        "# HELPER FUNCTIONS\n",
        "\n",
        "#\n",
        "def get_scaler(env):\n",
        "  '''\n",
        "  this function plays one episode of the environment to get a distribution of state spaces\n",
        "  this allows for future state spaces to be normalised\n",
        "  returns a fitted StandardScaler instance\n",
        "  '''\n",
        "  # get some samples of states so that dataset can be scaled\n",
        "  states = []\n",
        "  for _ in range(env.n_step):\n",
        "    action = np.random.choice(env.action_space)\n",
        "    state, _,done,_ = env.step(action)\n",
        "    states.append(state)\n",
        "    if done:\n",
        "      break\n",
        "\n",
        "  scl = StandardScaler()\n",
        "  scl.fit(states)\n",
        "  return scl\n",
        "\n",
        "#\n",
        "def play_one_episode(agent,env,scaler,is_train):\n",
        "  '''\n",
        "  this function makes the agent play 1 episode until termination\n",
        "  if it is a training instance, set is_train = 'train' to make it \"training mode\"\n",
        "  returns the portfolio value\n",
        "  '''\n",
        "  state = env.reset() #starting state\n",
        "  state = scaler.transform([state]) #normalise\n",
        "\n",
        "  # start episode\n",
        "  done = False\n",
        "  while not done:\n",
        "    action = agent.get_action(state)\n",
        "    next_state, reward, done, info = env.step(action) #obtain s', r, if has reached terminal state, misc. info\n",
        "    next_state = scaler.transform([next_state])\n",
        "    \n",
        "    # only if in training mode\n",
        "    if is_train == 'train':\n",
        "      agent.train(state,action,reward,next_state,done)\n",
        "\n",
        "    # update state\n",
        "    state = next_state\n",
        "\n",
        "  # return value of portfolio\n",
        "  return info['current_value']\n",
        "  "
      ],
      "execution_count": 5,
      "outputs": []
    },
    {
      "cell_type": "markdown",
      "metadata": {
        "id": "Ss9umN3kDbhL"
      },
      "source": [
        "# TRAIN"
      ]
    },
    {
      "cell_type": "code",
      "metadata": {
        "id": "GaWUHNRni6mT"
      },
      "source": [
        "# set up training and testing dataset\n",
        "# we use half for training and half for testing\n",
        "data = pd.read_csv('https://raw.githubusercontent.com/lazyprogrammer/machine_learning_examples/master/tf2.0/aapl_msi_sbux.csv').values #transform to numpy array\n",
        "n_timesteps, n_stocks = data.shape\n",
        "\n",
        "n_train = n_timesteps//2 #get midpoint of the timesteps\n",
        "\n",
        "train_data = data[:n_train] #use 1st half as training data\n",
        "test_data = data[n_train:] #use 2nd half as testing data"
      ],
      "execution_count": 6,
      "outputs": []
    },
    {
      "cell_type": "code",
      "metadata": {
        "id": "SgvRixLtjf8O"
      },
      "source": [
        "#setup\n",
        "n_episodes = 2000\n",
        "batch_size = 32\n",
        "initial_investment = 20000\n",
        "GAMMA = .9\n",
        "ALPHA = .05\n",
        "ETA = .95\n",
        "\n",
        "# GAMMA = .9, ALPHA = .05, ETA = .95 seems the best"
      ],
      "execution_count": 7,
      "outputs": []
    },
    {
      "cell_type": "code",
      "metadata": {
        "colab": {
          "base_uri": "https://localhost:8080/",
          "height": 668
        },
        "id": "bgxQvV3dDiLj",
        "outputId": "524dc82d-dd85-45a7-8fed-d0ff65973db5"
      },
      "source": [
        "## TRAINING AGENT\n",
        "# instantiate environment, get necessary info\n",
        "train_env = StockEnv(train_data,initial_investment)\n",
        "state_size = train_env.state_dim\n",
        "action_size = len(train_env.action_space)\n",
        "\n",
        "# instantiate agent\n",
        "agent = DQNAgent(state_size,action_size,GAMMA,ALPHA,ETA)\n",
        "\n",
        "# get scaler (for future normalisation)\n",
        "scaler = get_scaler(train_env)\n",
        "\n",
        "# record final value of portfolio (at end of episode)\n",
        "training_portfolio_value = []\n",
        "\n",
        "# play the game multiple times\n",
        "for e in range(n_episodes):\n",
        "  t0 = datetime.now() #start time\n",
        "  \n",
        "  # get portfolio value after playing 1 episode\n",
        "  val = play_one_episode(agent, train_env, scaler, 'train')\n",
        "\n",
        "  dt = datetime.now() - t0 #duration elapsed from start time\n",
        "\n",
        "  if (e+1) % 100 == 0:\n",
        "    print('episode %d of %d, portfolio value: %.2f, duration: %.3f' % (e+1,n_episodes,val,dt.seconds+dt.microseconds*1e-6))\n",
        "  training_portfolio_value.append(val)\n",
        "\n",
        "# plot losses\n",
        "print('\\n')\n",
        "_ = plt.plot(agent.model.losses)\n",
        "_ = plt.title('MSE over time')\n"
      ],
      "execution_count": 8,
      "outputs": [
        {
          "output_type": "stream",
          "name": "stdout",
          "text": [
            "episode 100 of 2000, portfolio value: 39635.03, duration: 0.181\n",
            "episode 200 of 2000, portfolio value: 39541.59, duration: 0.244\n",
            "episode 300 of 2000, portfolio value: 34908.08, duration: 0.137\n",
            "episode 400 of 2000, portfolio value: 32830.24, duration: 0.337\n",
            "episode 500 of 2000, portfolio value: 37992.60, duration: 0.164\n",
            "episode 600 of 2000, portfolio value: 27122.15, duration: 0.208\n",
            "episode 700 of 2000, portfolio value: 34228.10, duration: 0.272\n",
            "episode 800 of 2000, portfolio value: 20890.64, duration: 0.255\n",
            "episode 900 of 2000, portfolio value: 30138.37, duration: 0.194\n",
            "episode 1000 of 2000, portfolio value: 33385.62, duration: 0.279\n",
            "episode 1100 of 2000, portfolio value: 25571.52, duration: 0.175\n",
            "episode 1200 of 2000, portfolio value: 24189.94, duration: 0.170\n",
            "episode 1300 of 2000, portfolio value: 19216.83, duration: 0.228\n",
            "episode 1400 of 2000, portfolio value: 25603.86, duration: 0.204\n",
            "episode 1500 of 2000, portfolio value: 52174.63, duration: 0.172\n",
            "episode 1600 of 2000, portfolio value: 20888.16, duration: 0.193\n",
            "episode 1700 of 2000, portfolio value: 25721.01, duration: 0.242\n",
            "episode 1800 of 2000, portfolio value: 31640.62, duration: 0.164\n",
            "episode 1900 of 2000, portfolio value: 27121.39, duration: 0.174\n",
            "episode 2000 of 2000, portfolio value: 24919.83, duration: 0.176\n",
            "\n",
            "\n"
          ]
        },
        {
          "output_type": "display_data",
          "data": {
            "image/png": "[encoded data removed]",
            "text/plain": [
              "<Figure size 432x288 with 1 Axes>"
            ]
          },
          "metadata": {
            "needs_background": "light"
          }
        }
      ]
    },
    {
      "cell_type": "markdown",
      "metadata": {
        "id": "VBptphxsDdOp"
      },
      "source": [
        "# TEST"
      ]
    },
    {
      "cell_type": "code",
      "metadata": {
        "colab": {
          "base_uri": "https://localhost:8080/",
          "height": 740
        },
        "id": "zBNqI5tzjXA0",
        "outputId": "a77a5caf-79e0-4f87-9bdb-775774e115ef"
      },
      "source": [
        "## TESTING AGENT\n",
        "# make new environment with Test data\n",
        "test_env = StockEnv(test_data,initial_investment)\n",
        "\n",
        "# set epsilon to very small value, so that very little exploration is needed\n",
        "agent.epsilon = .01\n",
        "\n",
        "# record final value of portfolio (at end of episode)\n",
        "testing_portfolio_value = []\n",
        "\n",
        "# test the agent multiple times\n",
        "for e in range(n_episodes):\n",
        "  t0 = datetime.now() #start time\n",
        "  \n",
        "  # get portfolio value after playing 1 episode\n",
        "  val = play_one_episode(agent, test_env, scaler, 'test')\n",
        "\n",
        "  dt = datetime.now() - t0 #duration elapsed from start time\n",
        "  \n",
        "  if (e+1) % 100 == 0:\n",
        "    print('episode %d of %d, portfolio value: %.2f, duration: %.2f' % (e+1,n_episodes,val,dt.seconds+dt.microseconds*1e-6))\n",
        "  testing_portfolio_value.append(val)\n",
        "\n",
        "# plot\n",
        "_ = plt.hist(testing_portfolio_value, bins = 50)\n",
        "_ = plt.title('TEST')\n",
        "\n",
        "# print values\n",
        "print('\\n')\n",
        "print('mean: %.2f' % np.mean(testing_portfolio_value))\n",
        "print('min: %d' % np.min(testing_portfolio_value))\n",
        "print('max: %d' % np.max(testing_portfolio_value))\n",
        "print('\\n')"
      ],
      "execution_count": 9,
      "outputs": [
        {
          "output_type": "stream",
          "name": "stdout",
          "text": [
            "episode 100 of 2000, portfolio value: 24038.84, duration: 0.07\n",
            "episode 200 of 2000, portfolio value: 23876.13, duration: 0.12\n",
            "episode 300 of 2000, portfolio value: 25074.49, duration: 0.08\n",
            "episode 400 of 2000, portfolio value: 22872.53, duration: 0.11\n",
            "episode 500 of 2000, portfolio value: 25728.20, duration: 0.12\n",
            "episode 600 of 2000, portfolio value: 25267.67, duration: 0.08\n",
            "episode 700 of 2000, portfolio value: 23249.60, duration: 0.07\n",
            "episode 800 of 2000, portfolio value: 22954.49, duration: 0.09\n",
            "episode 900 of 2000, portfolio value: 23026.34, duration: 0.12\n",
            "episode 1000 of 2000, portfolio value: 22999.59, duration: 0.06\n",
            "episode 1100 of 2000, portfolio value: 23157.65, duration: 0.07\n",
            "episode 1200 of 2000, portfolio value: 24867.17, duration: 0.10\n",
            "episode 1300 of 2000, portfolio value: 23847.24, duration: 0.08\n",
            "episode 1400 of 2000, portfolio value: 22986.96, duration: 0.12\n",
            "episode 1500 of 2000, portfolio value: 23090.89, duration: 0.12\n",
            "episode 1600 of 2000, portfolio value: 24668.97, duration: 0.12\n",
            "episode 1700 of 2000, portfolio value: 25301.57, duration: 0.10\n",
            "episode 1800 of 2000, portfolio value: 24650.86, duration: 0.09\n",
            "episode 1900 of 2000, portfolio value: 23253.38, duration: 0.12\n",
            "episode 2000 of 2000, portfolio value: 23387.58, duration: 0.11\n",
            "\n",
            "\n",
            "mean: 23860.48\n",
            "min: 16203\n",
            "max: 27973\n",
            "\n",
            "\n"
          ]
        },
        {
          "output_type": "display_data",
          "data": {
            "image/png": "[encoded data removed]",
            "text/plain": [
              "<Figure size 432x288 with 1 Axes>"
            ]
          },
          "metadata": {
            "needs_background": "light"
          }
        }
      ]
    },
    {
      "cell_type": "markdown",
      "metadata": {
        "id": "y2-QG16wJcf7"
      },
      "source": [
        "It seems, on average, this RL agent gets investment returns of ~19%, running a profit majority of the time."
      ]
    },
    {
      "cell_type": "markdown",
      "metadata": {
        "id": "7RqjOdyUvPOu"
      },
      "source": [
        "# Final Notes: Potential improvements.\n",
        "\n",
        "1. Incorporate metadata, e.g. sentiment of the stock (Twitter, Google etc.)\n",
        "2. Incorporate price changes\n",
        "3. Use returns instead of prices"
      ]
    },
    {
      "cell_type": "markdown",
      "metadata": {
        "id": "3QMS9OAGiuhz"
      },
      "source": [
        "# MISC"
      ]
    },
    {
      "cell_type": "code",
      "metadata": {
        "id": "Rw_81jYSDeAk"
      },
      "source": [
        "# # set up environment for test mode\n",
        "# #if args.mode == 'test':\n",
        "# if MODE == 'test':\n",
        "#   # load StandardScaler from training dataset\n",
        "#   with open(f'{models_folder}/scaler.pkl','rb' as f):\n",
        "#     scaler = pickle.load(f)\n",
        "\n",
        "#   # make new environment with Test data\n",
        "#   env = StockEnv(test_data,initial_investment)\n",
        "\n",
        "#   # set epsilon to not 1, so that no exploration is needed\n",
        "#   agent.epsilon = .01\n",
        "\n",
        "#   # load trained weights\n",
        "#   scaler = agent.load(f'{models_folder}/linear.npz')"
      ],
      "execution_count": 11,
      "outputs": []
    },
    {
      "cell_type": "code",
      "metadata": {
        "id": "8r6uCY7OiuSO"
      },
      "source": [
        "# # add argument parser so we can run script in CLI (outside of .ipynb environment)\n",
        "# parser = argparse.ArgumentParser()\n",
        "# parser.add_argument('-m','--mode',type = str, required = True, help = 'either \"train\" or \"test\"')\n",
        "# args = parser.parse_args()"
      ],
      "execution_count": 12,
      "outputs": []
    },
    {
      "cell_type": "code",
      "metadata": {
        "id": "EE6I0Dv3ix0l"
      },
      "source": [
        "# model_folder = './'\n",
        "# rewards_folder = './'\n",
        "\n",
        "# # make directories if non-existent\n",
        "# make_dir(model_folder)\n",
        "# make_dir(rewards_folder)"
      ],
      "execution_count": 13,
      "outputs": []
    },
    {
      "cell_type": "markdown",
      "metadata": {
        "id": "ZNS0Pi3wL94_"
      },
      "source": [
        "# credits\n",
        "\n",
        "https://www.udemy.com/artificial-intelligence-reinforcement-learning-in-python"
      ]
    }
  ]
}