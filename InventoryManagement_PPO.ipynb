{
  "cells": [
    {
      "cell_type": "markdown",
      "source": [
        "# **ENVIRONMENT**\n",
        "\n",
        "\n",
        "Consider the problem of day-to-day control of an inventory of a fixed maximum size in the face of uncertain demand: \n",
        "* Every evening, the decision maker must decide about the quantity to be ordered for the next day. \n",
        "* In the morning, the ordered quantity arrives with which the inventory is filled up. \n",
        "* During the day, some stochastic demand is realised, where the demands are independent with a common fixed distribution.\n",
        "\n",
        "The goal of the inventory manager is to manage the inventory so as to maximize the present monetary value of the expected total future income.\n",
        "\n",
        "\n"
      ],
      "metadata": {
        "id": "69evVR86b85I"
      }
    },
    {
      "cell_type": "markdown",
      "source": [
        "\n",
        "---\n",
        "This environment has the following state, actions and reward:\n",
        "* State: size of the inventory at the end of the day\n",
        "* Action: how many items to order for the subsequent day (assumed to only occur once, at the end of the day)\n",
        "* Reward: profit/payoff at the end of the day\n",
        "\n",
        "There is no terminal state, and maximum inventory size is determined by the user.\n",
        "\n",
        "\n",
        "---\n",
        "The profit/payoff is determined by deducting three costs from the revenue gained, which are:\n",
        "1. Fixed entry cost - cost of ordering non-zero items (one price regardless of order size)\n",
        "2. Purchase cost - each item must be purchased at a fixed price\n",
        "3. Holding cost - cost of holding each item in the inventory\n",
        "\n",
        "Therefore:\n",
        "$$ \\text{Profit} = \\text{Revenue} - \\text{Fixed entry cost} - \\text{Purchase cost} - \\text{Holding cost}$$\n",
        "\n",
        "Costs and revenue (i.e. selling price per item) are likewise determined by the user, although naturally selling price has to be greater than the purchase cost for there to be an incentive.\n",
        "\n",
        "---\n",
        "\n",
        "The transition function from day to day (i.e. current State to next State) is determined by simulating the uncertain/stochastic demand, by randomly sampling from a Poisson distribution.\n",
        "\n",
        "Poisson distribution is determined by a single parameter lambda, which represents the average demand. This is determined, a priori, by the user.\n",
        "\n",
        "---\n",
        "---\n",
        "\n",
        "Notes\n",
        "\n",
        "* This environment is based on the \"Inventory control\n",
        "with lost sales\" problem described in Example 1.1 in \n",
        "[Algorithms for Reinforcement Learning by Csaba Szepesvari (2010)](https://sites.ualberta.ca/~szepesva/papers/RLAlgsInMDPs.pdf).\n",
        "\n",
        "* Credit for the original environment to [paulhendricks](https://github.com/paulhendricks/gym-inventory)\n",
        "---"
      ],
      "metadata": {
        "id": "cnkorTciDdfP"
      }
    },
    {
      "cell_type": "code",
      "execution_count": 1,
      "metadata": {
        "id": "MNo4jH084szy"
      },
      "outputs": [],
      "source": [
        "import gym\n",
        "from gym import spaces\n",
        "from gym import utils\n",
        "from gym.utils import seeding\n",
        "import numpy as np\n",
        "import matplotlib.pyplot as plt\n",
        "\n",
        "import logging\n",
        "logger = logging.getLogger(__name__)\n",
        "\n",
        "\n",
        "class InventoryEnv(gym.Env, utils.EzPickle):\n",
        "    \"\"\"\n",
        "    Inventory control with lost sales environment\n",
        "\n",
        "    ---\n",
        "    State: inventory size (at end of day{t})\n",
        "    Action: number of items ordered (after end of day{t})\n",
        "    Reward: Profit made on the following day (day{t+1})\n",
        "\n",
        "    ---\n",
        "    init arguments:\n",
        "    - n: maximum inventory size. also equivalent to the Action & Observation spaces, and initial State space. copied into self.max_inv attribute. default = 100.\n",
        "    - k: fixed entry cost of ordering non-zero items. default = 5.\n",
        "    - c: fixed purchased price of each item. default = 2.\n",
        "    - h: proportionality cost factor of holding an inventory of any given size. default = 2.\n",
        "    - p: monetary amount paid for  (a.k.a. selling price of) each unit of item sold. p must be more than h, otherwise there is no incentive to order new items. default = 3.\n",
        "    - lam: lambda parameter for the Poisson stochastic-demand process. Represents expected (i.e. average) units sold per day. default = 8.\n",
        "\n",
        "    ---\n",
        "    TO BE EDITED\n",
        "    This environment corresponds to the version of the inventory control\n",
        "    with lost sales problem described in Example 1.1 in Algorithms for\n",
        "    Reinforcement Learning by Csaba Szepesvari (2010).\n",
        "    https://sites.ualberta.ca/~szepesva/RLBook.html\n",
        "    \"\"\"\n",
        "\n",
        "    def __init__(self, n=100, m=100, k=5, c=2, h=2, p=3, lam=8, seed=None):\n",
        "        assert p > h, \"price (p) less than holding cost factor (h)\"\n",
        "        self.n = n\n",
        "        self.action_space = spaces.Discrete(m)\n",
        "        self.observation_space = spaces.Discrete(m)\n",
        "        self.max_inv = m\n",
        "        self.state = n\n",
        "        self.k = k\n",
        "        self.c = c\n",
        "        self.h = h\n",
        "        self.p = p\n",
        "        self.lam = lam\n",
        "\n",
        "        # trends\n",
        "        self.timestep = 0\n",
        "        self.trend = 1\n",
        "        self.trend_lim = 0.5\n",
        "\n",
        "        # Set seed\n",
        "        # self._seed()\n",
        "        self.rng = np.random.default_rng(seed)\n",
        "        \n",
        "        # Start the first round\n",
        "        self.reset()\n",
        "\n",
        "    def _demand(self):\n",
        "        self.timestep += 1\n",
        "\n",
        "        return np.random.poisson(self.lam)\n",
        "        # return np.random.poisson(self.lam + trend)\n",
        "        # return self.rng.poisson(self.lam * self.trend)\n",
        "\n",
        "    def _transition(self, x, a, d):\n",
        "        '''\n",
        "        transition dynamics function; returns size of the next inventory (i.e. next state)\n",
        "        '''\n",
        "        m = self.max_inv\n",
        "        return max(min(x + a, m) - d, 0)\n",
        "\n",
        "    def _reward(self, x, a, y):\n",
        "        '''\n",
        "        input\n",
        "        - x: state\n",
        "        - a: action\n",
        "        - y: next state\n",
        "\n",
        "        returns\n",
        "        - profit (i.e. reward)\n",
        "        ---\n",
        "        profit (reward) is calculated as follows\n",
        "        profit = - fixed entry cost - purchase cost - holding cost + revenue\n",
        "        '''\n",
        "\n",
        "        k = self.k\n",
        "        m = self.max_inv\n",
        "        c = self.c\n",
        "        h = self.h\n",
        "        p = self.p\n",
        "        r = - k * (a > 0) - c * max(min(x + a, m) - x, 0) - h * x + p * max(min(x + a, m) - y, 0)\n",
        "        return r\n",
        "\n",
        "    # def _seed(self, seed=None):\n",
        "    #     self.np_random, seed = seeding.np_random(seed)\n",
        "    #     return [seed]\n",
        "\n",
        "    def step(self, action):\n",
        "        assert self.action_space.contains(action), \"invalid action\"\n",
        "        obs = self.state\n",
        "        demand = self._demand()\n",
        "        obs2 = self._transition(obs, action, demand)\n",
        "        self.state = obs2\n",
        "        reward = self._reward(obs, action, obs2)\n",
        "        done = 0\n",
        "\n",
        "        # #incentive tracking\n",
        "        # if obs > demand: #if demand is (more than) met\n",
        "        #   self.trend = min(self.trend + .05, 1 + self.trend_lim)\n",
        "        # else: #if obs < demand: #if supply < demand\n",
        "        #   self.trend = max(self.trend - .05, 1 - self.trend_lim)\n",
        "\n",
        "        return obs2, reward, done, {'demand':demand}\n",
        "\n",
        "    def reset(self):\n",
        "        self.state = self.n\n",
        "        self.timestep = 0\n",
        "        return self.state"
      ]
    },
    {
      "cell_type": "markdown",
      "source": [
        "# **ACTOR-CRITIC**\n",
        "\n",
        "*Proximal Policy Optimisation* (PPO) will be used to train the agent.\n",
        "This is an Actor-Critic algorithm, meaning that there will be a pair of interleaved models training with each other. \n",
        "\n",
        "The *Actor* learns the policy mapping, i.e. mapping States to Actions\n",
        "\n",
        "The *Critic* learns the value function, i.e. mapping States to expected future Rewards"
      ],
      "metadata": {
        "id": "CA6qIwAhb61w"
      }
    },
    {
      "cell_type": "markdown",
      "source": [
        "---\n",
        "\n",
        "RL uses SL methods to train the Actor & Critic networks.\n",
        "\n",
        "The Buffer acts as the \"dataset\" in this case, where it keeps a store of States, Actions and Rewards (and their associated derivatives) for training.\n",
        "\n",
        "The Buffer has a FIFO structure, where newer training instances will overwrite older instances the longer the training iterations go on.\n",
        "\n",
        "Actor/Critic networks will randomly sample past experiences from the Buffer, to form their \"features\" and \"targets\" for training/updating weights.\n",
        "\n",
        "---\n",
        "\n",
        "The remaining functions are helper/constructor functions necessary for the whole PPO flow\n",
        "\n",
        "---\n",
        "---"
      ],
      "metadata": {
        "id": "zmHIJ0IcjY4V"
      }
    },
    {
      "cell_type": "code",
      "execution_count": 2,
      "metadata": {
        "id": "MR2MI0gC9YAE"
      },
      "outputs": [],
      "source": [
        "import numpy as np\n",
        "import tensorflow as tf\n",
        "from tensorflow import keras\n",
        "from tensorflow.keras import layers, regularizers\n",
        "from tensorflow.keras.models import clone_model\n",
        "import matplotlib.pyplot as plt\n",
        "import scipy.signal\n",
        "import time\n",
        "import scipy as sp"
      ]
    },
    {
      "cell_type": "code",
      "execution_count": 3,
      "metadata": {
        "id": "WZMivHK1_gZl"
      },
      "outputs": [],
      "source": [
        "# replay buffer\n",
        "class Buffer:\n",
        "    # Buffer for storing trajectories\n",
        "    def __init__(self, size, observation_dimensions, gamma=0.99, lam=0.95):\n",
        "        '''\n",
        "        size: size of the buffer (i.e. no. of records to keep in buffer)\n",
        "        observation_dimensions: dimension of the observation/State\n",
        "        gamma: discount factor, default 0.99\n",
        "        lam: smoothing parameter to reduce the variance in training, default 0.95\n",
        "        '''\n",
        "        # Buffer initialization\n",
        "        self.observation_buffer = np.zeros((size, observation_dimensions), dtype=np.float32)\n",
        "        self.action_buffer = np.zeros(size, dtype=np.int32)\n",
        "        self.advantage_buffer = np.zeros(size, dtype=np.float32)\n",
        "        self.reward_buffer = np.zeros(size, dtype=np.float32)\n",
        "        self.return_buffer = np.zeros(size, dtype=np.float32)\n",
        "        self.value_buffer = np.zeros(size, dtype=np.float32)\n",
        "        self.logprobability_buffer = np.zeros(size, dtype=np.float32)\n",
        "        self.gamma, self.lam = gamma, lam\n",
        "        self.pointer, self.trajectory_start_index = 0, 0\n",
        "\n",
        "    def store(self, observation, action, reward, value, logprobability):\n",
        "        # Append one step of agent-environment interaction\n",
        "        self.observation_buffer[self.pointer] = observation\n",
        "        self.action_buffer[self.pointer] = action\n",
        "        self.reward_buffer[self.pointer] = reward\n",
        "        self.value_buffer[self.pointer] = value\n",
        "        self.logprobability_buffer[self.pointer] = logprobability\n",
        "        self.pointer += 1\n",
        "\n",
        "        # if self.pointer >= self.observation_buffer.shape[0]:\n",
        "        #     self.pointer = 0\n",
        "\n",
        "    def discounted_cumulative_sums(self, x, discount):\n",
        "        # Discounted cumulative sums of vectors for computing rewards-to-go and advantage estimates\n",
        "        return scipy.signal.lfilter([1], [1, float(-discount)], x[::-1], axis=0)[::-1]\n",
        "\n",
        "\n",
        "    def finish_trajectory(self, last_value=0):\n",
        "        # Finish the trajectory by computing advantage estimates and rewards-to-go\n",
        "        path_slice = slice(self.trajectory_start_index, self.pointer)\n",
        "        rewards = np.append(self.reward_buffer[path_slice], last_value)\n",
        "        values = np.append(self.value_buffer[path_slice], last_value)\n",
        "\n",
        "        deltas = rewards[:-1] + self.gamma * values[1:] - values[:-1]\n",
        "\n",
        "        self.advantage_buffer[path_slice] = self.discounted_cumulative_sums(deltas, self.gamma * self.lam)\n",
        "        self.return_buffer[path_slice] = self.discounted_cumulative_sums(rewards, self.gamma)[:-1]\n",
        "\n",
        "        self.trajectory_start_index = self.pointer\n",
        "\n",
        "    def get(self):\n",
        "        # Get all data of the buffer and normalize the advantages\n",
        "        self.pointer, self.trajectory_start_index = 0, 0\n",
        "\n",
        "        advantage_mean, advantage_std = (\n",
        "            np.mean(self.advantage_buffer),\n",
        "            np.std(self.advantage_buffer),\n",
        "        )\n",
        "        self.advantage_buffer = (self.advantage_buffer - advantage_mean) / advantage_std\n",
        "        \n",
        "        return (\n",
        "            self.observation_buffer,\n",
        "            self.action_buffer,\n",
        "            self.advantage_buffer,\n",
        "            self.return_buffer,\n",
        "            self.logprobability_buffer,\n",
        "        )"
      ]
    },
    {
      "cell_type": "code",
      "execution_count": 4,
      "metadata": {
        "id": "H2VLVOrN_hc_"
      },
      "outputs": [],
      "source": [
        "# Compute the log-probabilities of taking actions a by using the logits (i.e. the output of the actor)\n",
        "# masked by one-hot encoding\n",
        "def logprobabilities(logits, a):\n",
        "    logprobabilities_all = tf.nn.log_softmax(logits)\n",
        "    logprobability = tf.reduce_sum(\n",
        "        tf.one_hot(a, num_actions) * logprobabilities_all, axis=1\n",
        "    )\n",
        "    return logprobability"
      ]
    },
    {
      "cell_type": "code",
      "source": [
        "# Sample action from actor\n",
        "@tf.function\n",
        "def sample_action(actor,observation):\n",
        "    logits = actor(observation)\n",
        "    action = tf.squeeze(tf.random.categorical(logits, 1), axis=1)\n",
        "    # action = tf.math.argmax(tf.nn.sigmoid(logits),axis=1) # best action\n",
        "    return logits, action"
      ],
      "metadata": {
        "id": "fzvXxLN-8yNa"
      },
      "execution_count": 5,
      "outputs": []
    },
    {
      "cell_type": "code",
      "execution_count": 6,
      "metadata": {
        "id": "aP3QReIUFi7L"
      },
      "outputs": [],
      "source": [
        "# Train the policy by maxizing the PPO-Clip objective\n",
        "@tf.function\n",
        "def train_policy(observation_buffer, action_buffer, logprobability_buffer, advantage_buffer):\n",
        "\n",
        "    with tf.GradientTape() as tape:  # Record operations for automatic differentiation.\n",
        "        ratio = tf.exp(logprobabilities(actor(observation_buffer), action_buffer) - logprobability_buffer)\n",
        "        \n",
        "        #clip objective\n",
        "        min_advantage = tf.where(\n",
        "            advantage_buffer > 0,\n",
        "            (1 + clip_ratio) * advantage_buffer,\n",
        "            (1 - clip_ratio) * advantage_buffer,\n",
        "        )\n",
        "\n",
        "        policy_loss = -tf.reduce_mean(tf.minimum(ratio * advantage_buffer, min_advantage))\n",
        "\n",
        "    policy_grads = tape.gradient(policy_loss, actor.trainable_variables)\n",
        "    policy_optimizer.apply_gradients(zip(policy_grads, actor.trainable_variables))\n",
        "\n",
        "    kl = tf.reduce_mean(logprobability_buffer - logprobabilities(actor(observation_buffer), action_buffer))\n",
        "    kl = tf.reduce_sum(kl)\n",
        "    return kl"
      ]
    },
    {
      "cell_type": "code",
      "source": [
        "# Train the value function by regression on mean-squared error\n",
        "@tf.function\n",
        "def train_value_function(observation_buffer, return_buffer):\n",
        "    with tf.GradientTape() as tape:  # Record operations for automatic differentiation.\n",
        "        value_loss = tf.reduce_mean((return_buffer - critic(observation_buffer)) ** 2)\n",
        "    value_grads = tape.gradient(value_loss, critic.trainable_variables)\n",
        "    value_optimizer.apply_gradients(zip(value_grads, critic.trainable_variables))"
      ],
      "metadata": {
        "id": "cf49O6V988hR"
      },
      "execution_count": 7,
      "outputs": []
    },
    {
      "cell_type": "code",
      "execution_count": 8,
      "metadata": {
        "id": "Be2HcteqVDSK"
      },
      "outputs": [],
      "source": [
        "# neural network builder\n",
        "def mlp(x, sizes, activation=tf.tanh, l2=0.01, output_activation=None):\n",
        "    '''\n",
        "    Build a feedforward neural network\n",
        "\n",
        "    x: input size\n",
        "    sizes: no. of nodes per layer (incld. output layer), pass in as iterable\n",
        "    activation: activation function (only for hidden layers); pass in as tensorflow object; default \"tanh\"\n",
        "    l2: L2-regularisation hyperparameter (only for hidden layers); pass in as float\n",
        "    output_activation: activation for output layer, pass in as tensorflow object; default \"None\"\n",
        "    '''   \n",
        "    for size in sizes[:-1]:\n",
        "        x = layers.Dense(units=size, activation=activation,kernel_regularizer=regularizers.L2(l2))(x)\n",
        "    return layers.Dense(units=sizes[-1], activation=output_activation)(x)"
      ]
    },
    {
      "cell_type": "markdown",
      "source": [
        "# **TRAINING**\n",
        "\n",
        "Implementation of the PPO algorithm\n",
        "\n"
      ],
      "metadata": {
        "id": "7eSEWvDjb4Pw"
      }
    },
    {
      "cell_type": "code",
      "execution_count": 9,
      "metadata": {
        "id": "dGoPpAMXPSyP"
      },
      "outputs": [],
      "source": [
        "# Hyperparameters/settings\n",
        "steps_per_epoch = 1000 #500\n",
        "epochs = 500 #1000\n",
        "gamma = .7 #.99 #discount factor (0.99 best)\n",
        "clip_ratio = .2 #upper/lower limit of PPO-Clip\n",
        "policy_learning_rate = 3e-4 #learning rate of policy network\n",
        "value_function_learning_rate = 1e-3 #learning rate of value network\n",
        "train_policy_iterations = 80\n",
        "train_value_iterations = 80\n",
        "lam = 0.97 #smoothing parameter used for reducing the variance in training (in Buffer class)\n",
        "target_kl = .01\n",
        "history_to_remember = 21\n",
        "l2 = .001 #.0001\n",
        "hidden_sizes = (64,64,64) #(32,32,64,64) #(64,128)\n",
        "starting_inventory = 0\n",
        "\n",
        "## True if you want to render the environment\n",
        "#render = False "
      ]
    },
    {
      "cell_type": "code",
      "execution_count": null,
      "metadata": {
        "id": "cGqseP7nPXRm"
      },
      "outputs": [],
      "source": [
        "# Initialize the environment, and get the dimensionality of the observation space and the number of possible actions\n",
        "env = InventoryEnv(n = starting_inventory)\n",
        "observation_dimensions = history_to_remember #env.observation_space.shape[0]\n",
        "num_actions = env.action_space.n\n",
        "\n",
        "# Initialize the buffer\n",
        "buffer = Buffer(steps_per_epoch, observation_dimensions)\n",
        "\n",
        "# Initialize the actor and the critic as keras models\n",
        "observation_input = keras.Input(shape=(observation_dimensions,), dtype=tf.float32)\n",
        "\n",
        "# Policy function (actor)\n",
        "logits = mlp(observation_input, list(hidden_sizes) + [num_actions], tf.tanh, l2, None) \n",
        "actor = keras.Model(inputs=observation_input, outputs=logits)\n",
        "\n",
        "# Value function (critic)\n",
        "value = tf.squeeze(mlp(observation_input, list(hidden_sizes) + [1], tf.tanh, l2, None), axis=1)\n",
        "critic = keras.Model(inputs=observation_input, outputs=value)\n",
        "\n",
        "# Initialize the policy and the value function optimizers\n",
        "policy_optimizer = keras.optimizers.Adam(learning_rate=policy_learning_rate)\n",
        "value_optimizer = keras.optimizers.Adam(learning_rate=value_function_learning_rate)"
      ]
    },
    {
      "cell_type": "markdown",
      "source": [
        "While training the Actor, a copy of the network that produces the highest reward (regardless of training epoch) is also kept, and labelled \"Best Actor\""
      ],
      "metadata": {
        "id": "9QyovgTXN-mr"
      }
    },
    {
      "cell_type": "code",
      "execution_count": null,
      "metadata": {
        "colab": {
          "base_uri": "https://localhost:8080/"
        },
        "id": "w4UDzUzcPcfx",
        "outputId": "a00672a4-d425-4bac-b050-169a49ecf233"
      },
      "outputs": [
        {
          "output_type": "stream",
          "name": "stdout",
          "text": [
            " Epoch: 1. Mean Return: -5.118. Mean Length: 30.0.\n",
            " Epoch: 51. Mean Return: -5.145. Mean Length: 29.0.\n",
            " Epoch: 101. Mean Return: -5.053. Mean Length: 28.0.\n",
            " Epoch: 151. Mean Return: -5.125. Mean Length: 30.0.\n",
            " Epoch: 201. Mean Return: -5.083. Mean Length: 28.0.\n",
            " Epoch: 251. Mean Return: -5.036. Mean Length: 28.0.\n",
            " Epoch: 301. Mean Return: -5.041. Mean Length: 28.0.\n",
            " Epoch: 351. Mean Return: -5.032. Mean Length: 28.0.\n",
            " Epoch: 401. Mean Return: -5.02. Mean Length: 28.0.\n",
            " Epoch: 451. Mean Return: -5.175. Mean Length: 29.0.\n",
            " Epoch: 501. Mean Return: -5.178. Mean Length: 29.0.\n",
            " Epoch: 551. Mean Return: -5.051. Mean Length: 28.0.\n",
            " Epoch: 601. Mean Return: -5.093. Mean Length: 29.0.\n",
            " Epoch: 651. Mean Return: -5.075. Mean Length: 29.0.\n",
            " Epoch: 701. Mean Return: -5.134. Mean Length: 35.0.\n",
            " Epoch: 751. Mean Return: -5.03. Mean Length: 80.0.\n",
            " Epoch: 801. Mean Return: 0.0. Mean Length: 1000.0.\n",
            " Epoch: 851. Mean Return: 0.0. Mean Length: 1000.0.\n",
            " Epoch: 901. Mean Return: 0.0. Mean Length: 1000.0.\n",
            " Epoch: 951. Mean Return: 0.0. Mean Length: 1000.0.\n",
            "best Mean Return:  0.005\n"
          ]
        }
      ],
      "source": [
        "# keep copy of best performing model\n",
        "best_actor = clone_model(actor)\n",
        "best_performance = -np.inf\n",
        "\n",
        "# Initialize the observation, episode return and episode length\n",
        "observation_new = env.reset()\n",
        "observation = np.array([observation_new]*observation_dimensions)\n",
        "episode_return, episode_length = 0, 0\n",
        "\n",
        "# Iterate over the number of epochs\n",
        "for epoch in range(epochs):\n",
        "    # Initialize the sum of the returns, lengths and number of episodes for each epoch\n",
        "    sum_return = 0\n",
        "    sum_length = 0\n",
        "    num_episodes = 0\n",
        "\n",
        "    # Iterate over the steps of each epoch\n",
        "    for t in range(steps_per_epoch):\n",
        "        #if render: env.render()\n",
        "\n",
        "        # Get the logits, action, and take one step in the environment\n",
        "        observation = observation.reshape(1, -1)\n",
        "        logits, action = sample_action(actor,observation)\n",
        "        observation_new, reward, done, _ = env.step(action[0].numpy())\n",
        "        episode_return += reward\n",
        "        episode_length += 1\n",
        "\n",
        "        # Get the value and log-probability of the action\n",
        "        value_t = critic(observation)\n",
        "        logprobability_t = logprobabilities(logits, action)\n",
        "\n",
        "        # Store obs, act, rew, v_t, logp_pi_t\n",
        "        buffer.store(observation, action, reward, value_t, logprobability_t)\n",
        "\n",
        "        # Update the observation\n",
        "        #observation = observation_new\n",
        "        observation = np.append(observation.flatten()[1:],observation_new)\n",
        "\n",
        "        # Finish trajectory if reached to a terminal state\n",
        "        terminal = done\n",
        "        if terminal or (t == steps_per_epoch - 1): #if done, or last iteration of loop\n",
        "            last_value = 0 if done else critic(observation.reshape(1, -1))\n",
        "            buffer.finish_trajectory(last_value)\n",
        "            sum_return += episode_return\n",
        "            sum_length += episode_length\n",
        "            num_episodes += 1\n",
        "            observation_new = env.reset()\n",
        "            observation = np.array([observation_new]*observation_dimensions)\n",
        "            episode_return, episode_length = 0, 0\n",
        "            break\n",
        "\n",
        "    # Get values from the buffer\n",
        "    (\n",
        "        observation_buffer,\n",
        "        action_buffer,\n",
        "        advantage_buffer,\n",
        "        return_buffer,\n",
        "        logprobability_buffer,\n",
        "    ) = buffer.get()\n",
        "\n",
        "    # Update the policy and implement early stopping using KL divergence\n",
        "    for _ in range(train_policy_iterations):\n",
        "        kl = train_policy(observation_buffer, action_buffer, logprobability_buffer, advantage_buffer)\n",
        "        if kl > 1.5 * target_kl:\n",
        "            # Early Stopping\n",
        "            break\n",
        "\n",
        "    # Update the value function\n",
        "    for _ in range(train_value_iterations):\n",
        "        train_value_function(observation_buffer, return_buffer)\n",
        "\n",
        "    # save best performing model\n",
        "    performance = sum_return / steps_per_epoch\n",
        "    if performance > best_performance:\n",
        "      best_actor.set_weights(actor.get_weights())\n",
        "      best_performance = performance\n",
        "\n",
        "    # Print mean return and length for each epoch\n",
        "    if (epoch % 50) == 0:\n",
        "        print(f\" Epoch: {epoch + 1}. Mean Return: {performance}. Mean Length: {sum_length / num_episodes}.\")\n",
        "\n",
        "print('best Mean Return: ', best_performance)"
      ]
    },
    {
      "cell_type": "markdown",
      "source": [
        "---\n",
        "\n",
        "Note for this section, training output is a work in progress, and does not reflect the training performance of saved models. \n",
        "\n",
        "---"
      ],
      "metadata": {
        "id": "nWQBkBFcm1x-"
      }
    },
    {
      "cell_type": "markdown",
      "metadata": {
        "id": "RidX3Anz9ZgP"
      },
      "source": [
        "# **MODEL SAVING**\n"
      ]
    },
    {
      "cell_type": "code",
      "execution_count": null,
      "metadata": {
        "id": "fRtSrGF3ePuM"
      },
      "outputs": [],
      "source": [
        "# SAVING ##\n",
        "to_save_model = False #change to True when want to save\n",
        "\n",
        "if to_save_model:\n",
        "  #mount gdrive\n",
        "  from google.colab import drive\n",
        "  drive.mount('/drive')\n",
        "\n",
        "  #SAVE DIRECTORY\n",
        "  SAVEDIR = '/drive/My Drive/RL_models/inventory_env/'\n",
        "\n",
        "  actor.save(SAVEDIR+'actor_64x64x64_start0/')\n",
        "  best_actor.save(SAVEDIR+'best_actor_64x64x64_start0/')\n",
        "  critic.save(SAVEDIR+'critic_64x64x64_start0/')"
      ]
    },
    {
      "cell_type": "markdown",
      "metadata": {
        "id": "4Q3sm3gY8Hgk"
      },
      "source": [
        "# **MODEL LOADING**"
      ]
    },
    {
      "cell_type": "code",
      "execution_count": 14,
      "metadata": {
        "id": "nG7LqCUMZoSn",
        "colab": {
          "base_uri": "https://localhost:8080/"
        },
        "outputId": "428b94ed-4d11-4a53-f2e1-5c2902a62da7"
      },
      "outputs": [
        {
          "output_type": "stream",
          "name": "stdout",
          "text": [
            "Drive already mounted at /drive; to attempt to forcibly remount, call drive.mount(\"/drive\", force_remount=True).\n"
          ]
        },
        {
          "output_type": "stream",
          "name": "stderr",
          "text": [
            "WARNING:tensorflow:No training configuration found in save file, so the model was *not* compiled. Compile it manually.\n",
            "WARNING:tensorflow:No training configuration found in save file, so the model was *not* compiled. Compile it manually.\n"
          ]
        }
      ],
      "source": [
        "# LOADING ##\n",
        "to_load_model = False #change to True when want to load\n",
        "\n",
        "if to_load_model:\n",
        "  #mount gdrive\n",
        "  from google.colab import drive\n",
        "  drive.mount('/drive')\n",
        "\n",
        "  #SAVE DIRECTORY\n",
        "  SAVEDIR = '/drive/My Drive/RL_models/inventory_env/'\n",
        "\n",
        "  # load model\n",
        "  actor = keras.models.load_model(SAVEDIR+'actor_64x64x64_start0/')\n",
        "  best_actor = keras.models.load_model(SAVEDIR+'best_actor_64x64x64_start0/')\n",
        "\n",
        "  # misc\n",
        "  observation_dimensions = history_to_remember"
      ]
    },
    {
      "cell_type": "markdown",
      "source": [
        "# **TESTING**\n",
        "\n",
        "Testing the trained Actor against a rationally-acting Human baseline."
      ],
      "metadata": {
        "id": "zj4-61ablPzv"
      }
    },
    {
      "cell_type": "markdown",
      "source": [
        "---\n",
        "\n",
        "To demonstrate the utility of the trained RL agent, it would have to be compared against a baseline.\n",
        "\n",
        "The baseline should be thought of as the actions that a Human would rationally take when faced with this inventory control problem.\n",
        "\n",
        "---\n",
        "\n",
        "**Modelling expected actions to be taken by a Human.**\n",
        "\n",
        "What would a person do?\n",
        "\n",
        "It would be natural to aim for enough inventory to meet the expected demand. It would be impractical to predict daily demand (disregarding even the stochastic simulation) since there would always be noise in natural phenomena. It would also *not* make sense to keep extra inventory above what is necessary, since it would incur holding costs (and so reduce profits).\n",
        "\n",
        "Daily demand $D$ can be estimated by subtracting the end-of-day inventory size from the previous day, \n",
        "\n",
        "$$\\hat{D} \\approx S + A - S'$$\n",
        "\n",
        "Expected demand should then be the average of demand across all days (which can be implemented as a moving average).\n",
        "\n",
        "$$\\bar{D}_{t} = \\bar{D}_{t-1} + \\frac{\\hat{D}_{t} - \\bar{D}_{t-1}}{t} $$\n",
        "\n",
        "However, note that demand can be accurately estimated only if subsequent day's inventory $S'$ greater than $0$,\n",
        "\n",
        "$$\\hat{D} = S + A - S',\\ \\text{if} \\ S' > 0$$\n",
        "\n",
        "If $S' = 0$ then it means that the demand is only *at least* previous day's inventory + action, i.e. \n",
        "\n",
        "$$\\hat{D} \\geq S + A,\\ \\text{if} \\ S' = 0$$\n",
        "\n",
        "\n",
        "Unfortunately, $S' > 0$ means that there would be excess inventory, implying holding costs, and thus cutting into revenue.\n",
        "\n",
        "The dilemma then is to either keep elevated inventory for accurate demand estimation, or keep just enough inventory but poorly estimate demand over time.\n",
        "\n",
        "---\n",
        "\n",
        "The current implementation is to thus take a fixed action over some initial period of time, and keep track of average demand only when $S' > 0$. Subseqeuntly, order enough inventory to meet expected demand (i.e. top up stock when low, but only until expected demand), and continue keeping track of average demand only when $S' > 0$.\n",
        "\n",
        "E.g., for the first 100 days, order 10 units per day; keep track of average demand $\\bar{D}$ only when $S' > 0$. From day 101 onwards, order $max(\\bar{D} - S,0)$ units, and continue keeping track (i.e. averaging) of $\\bar{D}$ only when $S' > 0$.\n",
        "\n",
        "Multiple experiments would be ran, across a range of fixed actions and exploration periods, to determine the best values. These values would then be used to construct a baseline.\n",
        "\n",
        "---"
      ],
      "metadata": {
        "id": "nNjJH01ylYqM"
      }
    },
    {
      "cell_type": "code",
      "source": [
        "## plotting function\n",
        "def plot_rewards(S,A,R):\n",
        "    t = np.arange(len(R))\n",
        "    fig, ax1 = plt.subplots()\n",
        "\n",
        "    color = 'tab:blue'\n",
        "    ax1.set_xlabel('episode')\n",
        "    ax1.set_ylabel('Reward', color=color)\n",
        "    ax1.plot(t, R, color=color)\n",
        "    ax1.tick_params(axis='y', labelcolor=color)\n",
        "\n",
        "    ax2 = ax1.twinx()  # instantiate a second axes that shares the same x-axis\n",
        "\n",
        "    color = 'tab:red'\n",
        "    ax2.set_ylabel('Inventory', color=color)  # we already handled the x-label with ax1\n",
        "    ax2.plot(t, S[1:], color=color)\n",
        "    ax2.tick_params(axis='y', labelcolor=color)\n",
        "\n",
        "    fig.tight_layout()  # otherwise the right y-label is slightly clipped\n",
        "    plt.show()"
      ],
      "metadata": {
        "id": "p15raKYOIL8N"
      },
      "execution_count": 17,
      "outputs": []
    },
    {
      "cell_type": "code",
      "source": [
        "# human behaviour\n",
        "def human_performance(seed,days,starting_inv=None,starting_order=0,additional_order=0,prop_explore=0,to_plot=False):\n",
        "  '''\n",
        "  logic: if inventory at end of day is 0, order the average demand for the next day\n",
        "  '''\n",
        "  # setup\n",
        "  if starting_inv is None:\n",
        "    env = InventoryEnv(seed=seed)\n",
        "  else:\n",
        "    env = InventoryEnv(n=starting_inv,seed=seed)\n",
        "\n",
        "  observation_new = env.reset()\n",
        "  SS_ = [observation_new]\n",
        "  AA_ = []\n",
        "  RR_ = []\n",
        "  DD_ = []\n",
        "  avg_demand = 0\n",
        "\n",
        "  # exploration parameters\n",
        "  assert (prop_explore >= 0) & (prop_explore <= 1), 'prop_explore must be between 0 and 1 (inclusive)' \n",
        "  explore_days = round(days * prop_explore)\n",
        "\n",
        "  if starting_inv == 0: assert starting_order > 0, 'starting order must be greater than 0'\n",
        "\n",
        "  # run test\n",
        "  for t in range(days): \n",
        "    if t < explore_days: # exploration days\n",
        "      if observation_new < starting_order:\n",
        "        action = starting_order - observation_new\n",
        "      else:\n",
        "        action = 0\n",
        "    else: #subsequent days, stop exploring\n",
        "      if observation_new < avg_demand:\n",
        "        action = round(avg_demand + additional_order) - observation_new\n",
        "      else:\n",
        "        action = 0\n",
        "\n",
        "    observation_new, reward, _, demand = env.step(action) \n",
        "    \n",
        "    SS_.append(observation_new)\n",
        "    AA_.append(action)\n",
        "    RR_.append(reward)\n",
        "    DD_.append(demand['demand'])\n",
        "    \n",
        "    obs_demand = SS_[-2] + action - observation_new\n",
        "\n",
        "    # simple moving average (works better than EWMA)\n",
        "    # avg_demand += (obs_demand - avg_demand)/(t+1)\n",
        "    if observation_new > 0: avg_demand += (obs_demand - avg_demand)/(t+1) \n",
        "\n",
        "    # exponentially weighted moving average\n",
        "    # alpha = 2/(1+history_to_remember)\n",
        "    # avg_demand = (obs_demand * alpha) + (avg_demand * (1 - alpha))  \n",
        "    # if observation_new > 0: avg_demand = (obs_demand * alpha) + (avg_demand * (1 - alpha))\n",
        "    \n",
        "\n",
        "  if to_plot: \n",
        "    print('Expected human behaviour - mean reward: ', np.mean(RR_))\n",
        "    plot_rewards(SS_,AA_,RR_)\n",
        "\n",
        "  return np.mean(RR_), {'states':SS_,'actions':AA_,'rewards':RR_,'demands':DD_,'observed demand':avg_demand}"
      ],
      "metadata": {
        "id": "WOPTjtpcIPPx"
      },
      "execution_count": 10,
      "outputs": []
    },
    {
      "cell_type": "code",
      "source": [
        "# find best human hyperparameters\n",
        "def find_best_human_hyperparameters(days = 1000,starting_inv = 0,n_tests = 50):\n",
        "  import pandas as pd\n",
        "  print('running tests',n_tests,'times')\n",
        "\n",
        "  # setup search space\n",
        "  seeds = np.arange(round(n_tests*10))\n",
        "  np.random.default_rng().shuffle(seeds)\n",
        "  seeds = seeds[:n_tests]\n",
        "\n",
        "  starting_orders = np.arange(5,20)\n",
        "  prop_explores = np.arange(.01,.2,.01)\n",
        "\n",
        "  # run tests\n",
        "  performance = {s:{p:np.nan for p in prop_explores} for s in starting_orders}\n",
        "  for starting_order in starting_orders:\n",
        "    for prop_explore in prop_explores:\n",
        "      avg = 0\n",
        "      for itr,seed in enumerate(seeds):\n",
        "        hmn,_ = human_performance(seed,days,starting_inv=starting_inv,starting_order=starting_order,prop_explore=prop_explore,to_plot=False)\n",
        "        avg += (hmn - avg)/(itr+1)\n",
        "\n",
        "      performance[starting_order][prop_explore] = avg\n",
        "\n",
        "  # results\n",
        "  performance = pd.DataFrame(performance)\n",
        "  \n",
        "  best_starting_order = performance.max(axis=0).idxmax()\n",
        "  best_prop_explore = performance.max(axis=1).idxmax()\n",
        "  #performance.where(performance == performance.max().max(), inplace=True)\n",
        "  \n",
        "  assert performance[best_starting_order][best_prop_explore] == performance.max().max(), 'value not found'\n",
        "  print('best performance:',performance.max().max())\n",
        "  print('best starting order:',best_starting_order, 'best exploration:', best_prop_explore)\n",
        "  \n",
        "  return best_starting_order, best_prop_explore, performance\n",
        "\n",
        "#####\n",
        "starting_order,prop_explore,_ = find_best_human_hyperparameters(n_tests = 100)"
      ],
      "metadata": {
        "colab": {
          "base_uri": "https://localhost:8080/"
        },
        "id": "CU6cLV90FBSB",
        "outputId": "29bbe4a4-cbd0-4a9d-a8e9-b9f5a894d412"
      },
      "execution_count": 16,
      "outputs": [
        {
          "output_type": "stream",
          "name": "stdout",
          "text": [
            "running tests 100 times\n",
            "best performance: -0.21807000000000007\n",
            "best starting order: 11 best exploration: 0.04\n"
          ]
        }
      ]
    },
    {
      "cell_type": "code",
      "source": [
        "starting_order,prop_explore = 11, 0.04"
      ],
      "metadata": {
        "id": "klhmeO3Om-Fd"
      },
      "execution_count": 11,
      "outputs": []
    },
    {
      "cell_type": "code",
      "execution_count": 15,
      "metadata": {
        "id": "IBbxn4pX49T7"
      },
      "outputs": [],
      "source": [
        "# function used to test Actor\n",
        "def actor_performance(seed,actor,days,starting_inv=None,to_plot=False):\n",
        "  \n",
        "  if starting_inv is None:\n",
        "    env = InventoryEnv(seed=seed)\n",
        "  else:\n",
        "    env = InventoryEnv(n=starting_inv,seed=seed)\n",
        "  \n",
        "  observation_new = env.reset()\n",
        "  observation = np.array([observation_new]*observation_dimensions)\n",
        "\n",
        "  S = [observation_new]\n",
        "  A = []\n",
        "  R = []\n",
        "  D = []\n",
        "\n",
        "  for t in range(days): \n",
        "    observation = observation.reshape(1, -1)\n",
        "    _, action = sample_action(actor,observation)\n",
        "    observation_new, reward, _, demand = env.step(action[0].numpy()) \n",
        "    \n",
        "    S.append(observation_new)\n",
        "    A.append(action[0].numpy())\n",
        "    R.append(reward)\n",
        "    D.append(demand['demand'])\n",
        "  \n",
        "    # Update the observation\n",
        "    observation = np.append(observation.flatten()[1:],observation_new)\n",
        "\n",
        "  if to_plot: \n",
        "    print('Actor performance - mean reward: ', np.mean(R))\n",
        "    plot_rewards(S,A,R)\n",
        "\n",
        "  return np.mean(R), {'states':S,'actions':A,'rewards':R,'demands':D} #(S,A,R)"
      ]
    },
    {
      "cell_type": "markdown",
      "source": [
        "Test one instance to illustrate the Actor (& Best Actor's) performance against a Human baseline."
      ],
      "metadata": {
        "id": "GQXTNJYBLZWp"
      }
    },
    {
      "cell_type": "code",
      "execution_count": 18,
      "metadata": {
        "colab": {
          "base_uri": "https://localhost:8080/",
          "height": 1000
        },
        "id": "dFYp3Psoulzj",
        "outputId": "8e0cedae-57f6-4d38-945d-07ab85be2ed5"
      },
      "outputs": [
        {
          "output_type": "stream",
          "name": "stdout",
          "text": [
            "\n",
            "ACTOR\n",
            "Actor performance - mean reward:  0.315\n"
          ]
        },
        {
          "output_type": "display_data",
          "data": {
            "text/plain": [
              "<Figure size 432x288 with 2 Axes>"
            ],
            "image/png": "[encoded data removed]"
          },
          "metadata": {
            "needs_background": "light"
          }
        },
        {
          "output_type": "stream",
          "name": "stdout",
          "text": [
            "proportion of inactions:  0.284\n",
            "average demand:  7.978\n",
            "----------------------------\n",
            "\n",
            "\n",
            "BEST ACTOR\n",
            "Actor performance - mean reward:  0.439\n"
          ]
        },
        {
          "output_type": "display_data",
          "data": {
            "text/plain": [
              "<Figure size 432x288 with 2 Axes>"
            ],
            "image/png": "[encoded data removed]"
          },
          "metadata": {
            "needs_background": "light"
          }
        },
        {
          "output_type": "stream",
          "name": "stdout",
          "text": [
            "proportion of inactions:  0.321\n",
            "average demand:  8.03\n",
            "----------------------------\n",
            "\n",
            "\n",
            "HUMAN\n",
            "Expected human behaviour - mean reward:  -0.132\n"
          ]
        },
        {
          "output_type": "display_data",
          "data": {
            "text/plain": [
              "<Figure size 432x288 with 2 Axes>"
            ],
            "image/png": "[encoded data removed]"
          },
          "metadata": {
            "needs_background": "light"
          }
        },
        {
          "output_type": "stream",
          "name": "stdout",
          "text": [
            "proportion of inactions:  0.0\n",
            "average demand:  8.041\n",
            "----------------------------\n",
            "\n"
          ]
        }
      ],
      "source": [
        "# test one instance\n",
        "days = 1000\n",
        "seed = 1\n",
        "\n",
        "print('\\nACTOR')\n",
        "mn,tr = actor_performance(seed,actor,days,starting_inv=0,to_plot=True)\n",
        "print('proportion of inactions: ', np.mean([a==0 for a in tr['actions']]))\n",
        "print('average demand: ', np.mean(tr['demands']))\n",
        "print('----------------------------\\n')\n",
        "\n",
        "print('\\nBEST ACTOR')\n",
        "mnb,trb = actor_performance(seed,best_actor,days,starting_inv=0,to_plot=True)\n",
        "print('proportion of inactions: ', np.mean([a==0 for a in trb['actions']]))\n",
        "print('average demand: ', np.mean(trb['demands']))\n",
        "print('----------------------------\\n')\n",
        "\n",
        "print('\\nHUMAN')\n",
        "mn_,tr_ = human_performance(seed,days,starting_inv=0,starting_order=starting_order,prop_explore=prop_explore,to_plot=True)\n",
        "# mn_,tr_ = human_performance(seed,days,starting_inv=0,starting_order=8,prop_explore=1,to_plot=True)\n",
        "print('proportion of inactions: ', np.mean([a==0 for a in tr_['actions']]))\n",
        "print('average demand: ', np.mean(tr_['demands']))\n",
        "print('----------------------------\\n')"
      ]
    },
    {
      "cell_type": "code",
      "source": [
        "# reviewing trajectory (trailing end)\n",
        "print('states', tr_['states'][-11:])\n",
        "print('actions', tr_['actions'][-10:])\n",
        "print('demands', tr_['demands'][-10:])\n",
        "print('observed demand: ', tr_['observed demand'])"
      ],
      "metadata": {
        "colab": {
          "base_uri": "https://localhost:8080/"
        },
        "id": "64o-H5emdmwj",
        "outputId": "fc7f71bc-d0ed-4869-c6ae-857efcdf4d8f"
      },
      "execution_count": 19,
      "outputs": [
        {
          "output_type": "stream",
          "name": "stdout",
          "text": [
            "states [0, 0, 2, 0, 1, 5, 0, 0, 0, 0, 0]\n",
            "actions [6, 6, 4, 6, 5, 1, 6, 6, 6, 6]\n",
            "demands [10, 4, 11, 5, 1, 10, 13, 7, 10, 10]\n",
            "observed demand:  5.800957776010515\n"
          ]
        }
      ]
    },
    {
      "cell_type": "markdown",
      "source": [
        "Test Actor/Best Actor's performance across multiple runs, against multiple Human baselines, for robust comparison."
      ],
      "metadata": {
        "id": "zZl2_KwLLk7E"
      }
    },
    {
      "cell_type": "code",
      "execution_count": 20,
      "metadata": {
        "id": "yKuCKtDYc-cd"
      },
      "outputs": [],
      "source": [
        "## testing functions\n",
        "\n",
        "# \n",
        "def test_metric(metric,results,agent='actor'):\n",
        "  print('-', metric, '-')\n",
        "  print('ACTOR - mean:', round(np.mean(results[agent][metric]),3), ', std:', round(np.std(results[agent][metric]),3), \n",
        "      '| HUMAN - mean:', round(np.mean(results['human'][metric]),3), ', std:', round(np.std(results['human'][metric]),3))\n",
        "  t_stat,p_val = sp.stats.ttest_ind(results['actor'][metric],results['human'][metric],equal_var=False)\n",
        "  print('T:', round(t_stat,3), '| p-value:', round(p_val,3), '| sig?:', p_val < .05)\n",
        "  print('------')\n",
        "\n",
        "# actor testing\n",
        "def test_actor(actor,best_actor = None,days = 1000,n_tests = 500,starting_inv=None,human_starting_order=0,prop_explore=0):\n",
        "  seeds = np.arange(1000)\n",
        "  np.random.default_rng().shuffle(seeds)\n",
        "  seeds = seeds[:n_tests]\n",
        "\n",
        "  results = {'actor':     {'mean_reward':[],'prop_inaction':[],'avg_demand':[]},\n",
        "            'best_actor':{'mean_reward':[],'prop_inaction':[],'avg_demand':[]},\n",
        "            'human':     {'mean_reward':[],'prop_inaction':[],'avg_demand':[]}}\n",
        "\n",
        "  if best_actor is None:\n",
        "    best_actor = actor\n",
        "    results['note'] = 'actor = best_actor'\n",
        "  \n",
        "  c = 0\n",
        "  print('--- ongoing comparisons ---')\n",
        "  for i,seed in enumerate(seeds):\n",
        "    \n",
        "    # actor\n",
        "    actor_mean_reward, actor_trajectory = actor_performance(seed,actor,days,starting_inv=starting_inv)\n",
        "    results['actor']['mean_reward'].append(actor_mean_reward)\n",
        "    # results['actor']['prop_inaction'].append(np.mean([(s<=1 & a==0) for s,a in zip(actor_trajectory['states'][:-1],actor_trajectory['actions'])]))\n",
        "    results['actor']['prop_inaction'].append(np.mean([a==0 for a in actor_trajectory['actions']]))\n",
        "    results['actor']['avg_demand'].append(np.mean(actor_trajectory['demands']))\n",
        "\n",
        "    # best_actor\n",
        "    best_actor_mean_reward, best_actor_trajectory = actor_performance(seed,best_actor,days,starting_inv=starting_inv)\n",
        "    results['best_actor']['mean_reward'].append(best_actor_mean_reward)\n",
        "    # results['best_actor']['prop_inaction'].append(np.mean([(s<=1 & a==0) for s,a in zip(best_actor_trajectory['states'][:-1],best_actor_trajectory['actions'])]))\n",
        "    results['best_actor']['prop_inaction'].append(np.mean([a==0 for a in best_actor_trajectory['actions']]))\n",
        "    results['best_actor']['avg_demand'].append(np.mean(best_actor_trajectory['demands']))\n",
        "\n",
        "    # human\n",
        "    human_mean_reward, human_trajectory = human_performance(seed,days,starting_inv=starting_inv,starting_order=human_starting_order,prop_explore=prop_explore)\n",
        "    results['human']['mean_reward'].append(human_mean_reward)\n",
        "    # results['human']['prop_inaction'].append(np.mean([(s<=1 & a==0) for s,a in zip(human_trajectory['states'][:-1],human_trajectory['actions'])]))\n",
        "    results['human']['prop_inaction'].append(np.mean([a==0 for a in human_trajectory['actions']]))\n",
        "    results['human']['avg_demand'].append(np.mean(human_trajectory['demands']))\n",
        "\n",
        "    c += actor_mean_reward > human_mean_reward\n",
        "\n",
        "    if (i+1) % (n_tests/5) == 0: \n",
        "      print('iteration', i+1, ':', round(c/(i+1),3))\n",
        "  \n",
        "  print('\\n--- TESTING METRICS ---')\n",
        "  # print metrics\n",
        "  for m in ['mean_reward','prop_inaction','avg_demand']:\n",
        "    test_metric(m,results)\n",
        "\n",
        "  return results"
      ]
    },
    {
      "cell_type": "code",
      "execution_count": 21,
      "metadata": {
        "colab": {
          "base_uri": "https://localhost:8080/",
          "height": 630
        },
        "id": "t_ENOiUZ7VKg",
        "outputId": "ee6a1921-bddd-4c2c-c7d8-52d0dab5d964"
      },
      "outputs": [
        {
          "output_type": "stream",
          "name": "stdout",
          "text": [
            "ACTOR\n",
            "--- ongoing comparisons ---\n",
            "iteration 10 : 1.0\n",
            "iteration 20 : 1.0\n",
            "iteration 30 : 1.0\n",
            "iteration 40 : 1.0\n",
            "iteration 50 : 0.98\n",
            "\n",
            "--- TESTING METRICS ---\n",
            "- mean_reward -\n",
            "ACTOR - mean: 0.433 , std: 0.173 | HUMAN - mean: -0.254 , std: 0.155\n",
            "T: 20.725 | p-value: 0.0 | sig?: True\n",
            "------\n",
            "- prop_inaction -\n",
            "ACTOR - mean: 0.275 , std: 0.011 | HUMAN - mean: 0.001 , std: 0.001\n",
            "T: 178.861 | p-value: 0.0 | sig?: True\n",
            "------\n",
            "- avg_demand -\n",
            "ACTOR - mean: 7.978 , std: 0.096 | HUMAN - mean: 7.988 , std: 0.096\n",
            "T: -0.491 | p-value: 0.625 | sig?: False\n",
            "------\n"
          ]
        },
        {
          "output_type": "display_data",
          "data": {
            "text/plain": [
              "<Figure size 432x288 with 1 Axes>"
            ],
            "image/png": "[encoded data removed]"
          },
          "metadata": {
            "needs_background": "light"
          }
        }
      ],
      "source": [
        "print('ACTOR')\n",
        "results = test_actor(actor,n_tests = 50,starting_inv=0,human_starting_order=starting_order,prop_explore=prop_explore)\n",
        "\n",
        "# plot histogram\n",
        "plt.hist([results['actor']['mean_reward'], results['human']['mean_reward']], bins=50, label=['actor', 'human'])\n",
        "plt.legend(loc='upper left')\n",
        "plt.show()"
      ]
    },
    {
      "cell_type": "code",
      "execution_count": 22,
      "metadata": {
        "colab": {
          "base_uri": "https://localhost:8080/",
          "height": 630
        },
        "id": "QGcQq7dRbpIg",
        "outputId": "732740a4-0770-4cba-bd91-cc93c750a797"
      },
      "outputs": [
        {
          "output_type": "stream",
          "name": "stdout",
          "text": [
            "BEST ACTOR\n",
            "--- ongoing comparisons ---\n",
            "iteration 10 : 1.0\n",
            "iteration 20 : 0.95\n",
            "iteration 30 : 0.967\n",
            "iteration 40 : 0.975\n",
            "iteration 50 : 0.96\n",
            "\n",
            "--- TESTING METRICS ---\n",
            "- mean_reward -\n",
            "ACTOR - mean: 0.385 , std: 0.275 | HUMAN - mean: -0.236 , std: 0.138\n",
            "T: 14.143 | p-value: 0.0 | sig?: True\n",
            "------\n",
            "- prop_inaction -\n",
            "ACTOR - mean: 0.319 , std: 0.012 | HUMAN - mean: 0.0 , std: 0.001\n",
            "T: 186.322 | p-value: 0.0 | sig?: True\n",
            "------\n",
            "- avg_demand -\n",
            "ACTOR - mean: 8.007 , std: 0.096 | HUMAN - mean: 8.0 , std: 0.097\n",
            "T: 0.359 | p-value: 0.72 | sig?: False\n",
            "------\n"
          ]
        },
        {
          "output_type": "display_data",
          "data": {
            "text/plain": [
              "<Figure size 432x288 with 1 Axes>"
            ],
            "image/png": "[encoded data removed]"
          },
          "metadata": {
            "needs_background": "light"
          }
        }
      ],
      "source": [
        "print('BEST ACTOR')\n",
        "results_b = test_actor(best_actor,n_tests = 50,starting_inv=0,human_starting_order=starting_order,prop_explore=prop_explore)\n",
        "\n",
        "# plot histogram\n",
        "plt.hist([results_b['actor']['mean_reward'], results_b['human']['mean_reward']], bins=50, label=['actor', 'human'])\n",
        "plt.legend(loc='upper left')\n",
        "plt.show()"
      ]
    },
    {
      "cell_type": "markdown",
      "source": [
        "For a rather (improbable) scenario, the Actor can also be compared to an omnipotent Human agent, i.e. a Human agent that has preternaturally discerned the fixed distribution mean."
      ],
      "metadata": {
        "id": "tM0ksvEVnmSR"
      }
    },
    {
      "cell_type": "code",
      "source": [
        "print('ACTOR')\n",
        "results = test_actor(actor,n_tests = 50,starting_inv=0,human_starting_order=8,prop_explore=1)\n",
        "\n",
        "# plot histogram\n",
        "plt.hist([results['actor']['mean_reward'], results['human']['mean_reward']], bins=50, label=['actor', 'human'])\n",
        "plt.legend(loc='upper left')\n",
        "plt.show()"
      ],
      "metadata": {
        "colab": {
          "base_uri": "https://localhost:8080/",
          "height": 630
        },
        "id": "3Qc_NEqtnnTL",
        "outputId": "030b6ed7-89d2-4fea-b415-f8b5b8e333c2"
      },
      "execution_count": 23,
      "outputs": [
        {
          "output_type": "stream",
          "name": "stdout",
          "text": [
            "ACTOR\n",
            "--- ongoing comparisons ---\n",
            "iteration 10 : 1.0\n",
            "iteration 20 : 1.0\n",
            "iteration 30 : 1.0\n",
            "iteration 40 : 1.0\n",
            "iteration 50 : 1.0\n",
            "\n",
            "--- TESTING METRICS ---\n",
            "- mean_reward -\n",
            "ACTOR - mean: 0.468 , std: 0.092 | HUMAN - mean: -0.37 , std: 0.13\n",
            "T: 36.925 | p-value: 0.0 | sig?: True\n",
            "------\n",
            "- prop_inaction -\n",
            "ACTOR - mean: 0.27 , std: 0.009 | HUMAN - mean: 0.0 , std: 0.001\n",
            "T: 201.838 | p-value: 0.0 | sig?: True\n",
            "------\n",
            "- avg_demand -\n",
            "ACTOR - mean: 7.989 , std: 0.094 | HUMAN - mean: 7.986 , std: 0.087\n",
            "T: 0.118 | p-value: 0.906 | sig?: False\n",
            "------\n"
          ]
        },
        {
          "output_type": "display_data",
          "data": {
            "text/plain": [
              "<Figure size 432x288 with 1 Axes>"
            ],
            "image/png": "[encoded data removed]"
          },
          "metadata": {
            "needs_background": "light"
          }
        }
      ]
    },
    {
      "cell_type": "markdown",
      "source": [
        "# **CONCLUSION**\n",
        "\n",
        "1. We can see from the results that the Actor reliably outperforms a Human baseline, and thus a usable RL agent has been trained.\n",
        "\n",
        "2. The Best Actor network does so as well, but it fails spectacularly on certain occasions.\n",
        "\n",
        "3. Interestingly, the Human baseline tends to be making losses most of the time, possibly implying that the current strategy is not the best."
      ],
      "metadata": {
        "id": "SvT05uxRNewL"
      }
    },
    {
      "cell_type": "markdown",
      "metadata": {
        "id": "H9HQ2Tu78J9e"
      },
      "source": [
        "# MISC"
      ]
    },
    {
      "cell_type": "code",
      "source": [
        "### illustration of running the environment with predefined actions\n",
        "### can be used as a template to build the training algo around\n",
        "\n",
        "# env = InventoryEnv(n = 0)\n",
        "# obs = env.reset()\n",
        "# done = False\n",
        "# iter = 0 #iter counter\n",
        "# max_iter = 1000\n",
        "\n",
        "# while not done:\n",
        "#   iter += 1\n",
        "#   if iter > max_iter: break\n",
        "#   action = (8-obs) if obs < 8 else 0 \n",
        "#   obs_new, reward, done, info = env.step(action)\n",
        "#   if iter % 100 == 0: print('iter:', iter, '| S:',obs, '| A:',action, \"| S':\", obs_new, '| R:',reward)\n",
        "#   obs = obs_new\n",
        "\n",
        "# # last iteration\n",
        "# print('iter:', iter, '| S:',obs, '| A:',action, \"| S':\", obs_new, '| R:',reward)"
      ],
      "metadata": {
        "id": "_y1IeFM2nh0i"
      },
      "execution_count": null,
      "outputs": []
    },
    {
      "cell_type": "code",
      "execution_count": null,
      "metadata": {
        "id": "hD5SZmRFX9BU"
      },
      "outputs": [],
      "source": [
        "# scl = 365\n",
        "# t = np.linspace(0,scl,scl)\n",
        "# #c = np.random.normal(loc=0.2,scale=0.01,size=scl)\n",
        "# #c = np.linspace(np.arcsin(0.001),np.arcsin(0.2),scl)\n",
        "\n",
        "# s = np.random.normal(loc=0,scale=0.25,size=scl)\n",
        "\n",
        "# plt.plot(np.sin(t*np.pi/90)+(0.2*t*np.pi/90)+s)"
      ]
    },
    {
      "cell_type": "code",
      "execution_count": null,
      "metadata": {
        "id": "TRlL_jVOQbHS"
      },
      "outputs": [],
      "source": [
        "# scl = 365\n",
        "# t = np.linspace(0,scl/(10*np.pi),scl)\n",
        "# p = []\n",
        "# d1 = []\n",
        "# d2 = []\n",
        "# for x in t:\n",
        "#   ps = np.random.normal(loc=np.sin(x)+(0.2*x),scale=.1)\n",
        "#   p.append(ps)\n",
        "#   d1.append(np.random.poisson(8+ps))\n",
        "#   d2.append(np.random.poisson(8))\n",
        "\n",
        "# plt.plot(d1)\n",
        "# plt.plot(d2)"
      ]
    },
    {
      "cell_type": "code",
      "execution_count": null,
      "metadata": {
        "id": "CNVbeWNPbpYo"
      },
      "outputs": [],
      "source": [
        "# scl = 3650\n",
        "# t2 = []\n",
        "# p = []\n",
        "# d1 = []\n",
        "# d2 = []\n",
        "# d3 = []\n",
        "# for x in range(scl):\n",
        "#   ts = x/(10*np.pi)\n",
        "#   t2.append(ts)\n",
        "#   #ps = np.random.normal(loc=np.sin(ts)+(0.2*ts),scale=1)\n",
        "#   #ps = np.random.normal(loc=ts+(0.2*ts),scale=1)\n",
        "#   ps = np.sin(ts)+(0.2*ts)\n",
        "#   p.append(ps)\n",
        "#   d1.append(np.random.poisson(8+ps))\n",
        "#   d2.append(np.random.poisson(8))\n",
        "#   d3.append(np.random.poisson(8+np.random.normal(ps,scale=1)))\n",
        "\n",
        "# plt.plot(d1)\n",
        "# plt.plot(d3)\n",
        "# plt.plot(d2)"
      ]
    }
  ],
  "metadata": {
    "colab": {
      "collapsed_sections": [
        "RidX3Anz9ZgP",
        "4Q3sm3gY8Hgk",
        "H9HQ2Tu78J9e"
      ],
      "provenance": []
    },
    "gpuClass": "standard",
    "kernelspec": {
      "display_name": "Python 3",
      "name": "python3"
    },
    "language_info": {
      "name": "python"
    }
  },
  "nbformat": 4,
  "nbformat_minor": 0
}