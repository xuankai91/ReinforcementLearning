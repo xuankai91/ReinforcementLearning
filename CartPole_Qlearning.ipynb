{
  "nbformat": 4,
  "nbformat_minor": 0,
  "metadata": {
    "colab": {
      "name": "CartPole_Qlearning.ipynb",
      "provenance": [],
      "collapsed_sections": [
        "tF-HDR8sDBTM"
      ],
      "authorship_tag": "ABX9TyOC/Nm8C/6Xdf5xiI862Ps+",
      "include_colab_link": true
    },
    "kernelspec": {
      "name": "python3",
      "display_name": "Python 3"
    },
    "language_info": {
      "name": "python"
    }
  },
  "cells": [
    {
      "cell_type": "markdown",
      "metadata": {
        "id": "view-in-github",
        "colab_type": "text"
      },
      "source": [
        "<a href=\"https://colab.research.google.com/github/xuankai91/ReinforcementLearning/blob/main/CartPole_Qlearning.ipynb\" target=\"_parent\"><img src=\"https://colab.research.google.com/assets/colab-badge.svg\" alt=\"Open In Colab\"/></a>"
      ]
    },
    {
      "cell_type": "markdown",
      "metadata": {
        "id": "ztpFLGKtCuvC"
      },
      "source": [
        "# SETUP"
      ]
    },
    {
      "cell_type": "code",
      "metadata": {
        "colab": {
          "base_uri": "https://localhost:8080/"
        },
        "id": "jpts9Eo7qHWO",
        "outputId": "7a234f74-d152-408a-b2e6-47a65b7448ed"
      },
      "source": [
        "# install required system dependencies\n",
        "!apt-get install -y xvfb x11-utils\n",
        "!pip install pyvirtualdisplay==0.2.* \\\n",
        "             PyOpenGL==3.1.* \\\n",
        "             PyOpenGL-accelerate==3.1.* \\\n",
        "             gym[box2d]==0.17.*"
      ],
      "execution_count": null,
      "outputs": [
        {
          "output_type": "stream",
          "name": "stdout",
          "text": [
            "Reading package lists... Done\n",
            "Building dependency tree       \n",
            "Reading state information... Done\n",
            "The following additional packages will be installed:\n",
            "  libxxf86dga1\n",
            "Suggested packages:\n",
            "  mesa-utils\n",
            "The following NEW packages will be installed:\n",
            "  libxxf86dga1 x11-utils xvfb\n",
            "0 upgraded, 3 newly installed, 0 to remove and 37 not upgraded.\n",
            "Need to get 994 kB of archives.\n",
            "After this operation, 2,981 kB of additional disk space will be used.\n",
            "Get:1 http://archive.ubuntu.com/ubuntu bionic/main amd64 libxxf86dga1 amd64 2:1.1.4-1 [13.7 kB]\n",
            "Get:2 http://archive.ubuntu.com/ubuntu bionic/main amd64 x11-utils amd64 7.7+3build1 [196 kB]\n",
            "Get:3 http://archive.ubuntu.com/ubuntu bionic-updates/universe amd64 xvfb amd64 2:1.19.6-1ubuntu4.9 [784 kB]\n",
            "Fetched 994 kB in 0s (9,110 kB/s)\n",
            "Selecting previously unselected package libxxf86dga1:amd64.\n",
            "(Reading database ... 155047 files and directories currently installed.)\n",
            "Preparing to unpack .../libxxf86dga1_2%3a1.1.4-1_amd64.deb ...\n",
            "Unpacking libxxf86dga1:amd64 (2:1.1.4-1) ...\n",
            "Selecting previously unselected package x11-utils.\n",
            "Preparing to unpack .../x11-utils_7.7+3build1_amd64.deb ...\n",
            "Unpacking x11-utils (7.7+3build1) ...\n",
            "Selecting previously unselected package xvfb.\n",
            "Preparing to unpack .../xvfb_2%3a1.19.6-1ubuntu4.9_amd64.deb ...\n",
            "Unpacking xvfb (2:1.19.6-1ubuntu4.9) ...\n",
            "Setting up xvfb (2:1.19.6-1ubuntu4.9) ...\n",
            "Setting up libxxf86dga1:amd64 (2:1.1.4-1) ...\n",
            "Setting up x11-utils (7.7+3build1) ...\n",
            "Processing triggers for man-db (2.8.3-2ubuntu0.1) ...\n",
            "Processing triggers for libc-bin (2.27-3ubuntu1.3) ...\n",
            "/sbin/ldconfig.real: /usr/local/lib/python3.7/dist-packages/ideep4py/lib/libmkldnn.so.0 is not a symbolic link\n",
            "\n",
            "Collecting pyvirtualdisplay==0.2.*\n",
            "  Downloading PyVirtualDisplay-0.2.5-py2.py3-none-any.whl (13 kB)\n",
            "Requirement already satisfied: PyOpenGL==3.1.* in /usr/local/lib/python3.7/dist-packages (3.1.5)\n",
            "Collecting PyOpenGL-accelerate==3.1.*\n",
            "  Downloading PyOpenGL-accelerate-3.1.5.tar.gz (538 kB)\n",
            "\u001b[K     |████████████████████████████████| 538 kB 12.6 MB/s \n",
            "\u001b[?25hRequirement already satisfied: gym[box2d]==0.17.* in /usr/local/lib/python3.7/dist-packages (0.17.3)\n",
            "Collecting EasyProcess\n",
            "  Downloading EasyProcess-0.3-py2.py3-none-any.whl (7.9 kB)\n",
            "Requirement already satisfied: cloudpickle<1.7.0,>=1.2.0 in /usr/local/lib/python3.7/dist-packages (from gym[box2d]==0.17.*) (1.3.0)\n",
            "Requirement already satisfied: pyglet<=1.5.0,>=1.4.0 in /usr/local/lib/python3.7/dist-packages (from gym[box2d]==0.17.*) (1.5.0)\n",
            "Requirement already satisfied: scipy in /usr/local/lib/python3.7/dist-packages (from gym[box2d]==0.17.*) (1.4.1)\n",
            "Requirement already satisfied: numpy>=1.10.4 in /usr/local/lib/python3.7/dist-packages (from gym[box2d]==0.17.*) (1.19.5)\n",
            "Collecting box2d-py~=2.3.5\n",
            "  Downloading box2d_py-2.3.8-cp37-cp37m-manylinux1_x86_64.whl (448 kB)\n",
            "\u001b[K     |████████████████████████████████| 448 kB 70.1 MB/s \n",
            "\u001b[?25hRequirement already satisfied: future in /usr/local/lib/python3.7/dist-packages (from pyglet<=1.5.0,>=1.4.0->gym[box2d]==0.17.*) (0.16.0)\n",
            "Building wheels for collected packages: PyOpenGL-accelerate\n",
            "  Building wheel for PyOpenGL-accelerate (setup.py) ... \u001b[?25l\u001b[?25hdone\n",
            "  Created wheel for PyOpenGL-accelerate: filename=PyOpenGL_accelerate-3.1.5-cp37-cp37m-linux_x86_64.whl size=1599572 sha256=7525db45b65cf9c295a8d9d219015e5f340123b81cc050ba820529ccf9e02cf3\n",
            "  Stored in directory: /root/.cache/pip/wheels/1c/f5/6f/169afb3f2d476c5e807f8515b3c9bc9b819c3962316aa804eb\n",
            "Successfully built PyOpenGL-accelerate\n",
            "Installing collected packages: EasyProcess, box2d-py, pyvirtualdisplay, PyOpenGL-accelerate\n",
            "Successfully installed EasyProcess-0.3 PyOpenGL-accelerate-3.1.5 box2d-py-2.3.8 pyvirtualdisplay-0.2.5\n"
          ]
        }
      ]
    },
    {
      "cell_type": "code",
      "metadata": {
        "colab": {
          "base_uri": "https://localhost:8080/"
        },
        "id": "EYNArAT4ug_-",
        "outputId": "c44f7157-59f2-49a8-8a00-585f4c236945"
      },
      "source": [
        "#check that display is working (it has a number)\n",
        "import pyvirtualdisplay\n",
        "_display = pyvirtualdisplay.Display(visible=False,  # use False with Xvfb\n",
        "                                    size=(400, 300))\n",
        "_ = _display.start()\n",
        "!echo $DISPLAY"
      ],
      "execution_count": null,
      "outputs": [
        {
          "output_type": "stream",
          "name": "stdout",
          "text": [
            ":1001\n"
          ]
        }
      ]
    },
    {
      "cell_type": "code",
      "metadata": {
        "id": "tTzbek5DJgtm"
      },
      "source": [
        "import numpy as np\n",
        "import matplotlib.pyplot as plt\n",
        "import scipy as sp\n",
        "import gym\n",
        "from sklearn.kernel_approximation import RBFSampler\n",
        "from IPython import display\n",
        "import time\n",
        "import math"
      ],
      "execution_count": null,
      "outputs": []
    },
    {
      "cell_type": "markdown",
      "metadata": {
        "id": "0gzn1TX5Ct0n"
      },
      "source": [
        "# CARTPOLE\n",
        "\n",
        "**About the cartpole environment**\n",
        "* The **State** is a 4-tuple, comprising of\n",
        " 1. Cart Position, $\\in [-2.4,2.4]$\n",
        " 2. Cart Velocity, $\\in [-\\infty,\\infty]$\n",
        " 3. Pole Angle, $\\in [-41.8^{\\circ},41.8^{\\circ}]$\n",
        " 4. Pole Velocity at Tip, $\\in [-\\infty,\\infty]$\n",
        "* Available **Actions** are\n",
        " 1. Push cart to the left, $0$\n",
        " 2. Push cart to the right, $1$\n",
        "* The **Reward** is $+1$ for every step taken, including termination step.\n",
        "* The episode terminates if\n",
        " * Pole Angle falls past $12^{\\circ}$ from the midline.\n",
        " * Cart Position has moved past $\\pm 2.4$\n",
        " * Episode has proceeded for >200 time-steps.\n",
        "  * However I have manually changed the limit to >800 time-steps to better visualise the environment\n",
        "\n",
        "---\n",
        "\n",
        "**About this RL procedure**\n",
        "* As this is a Q-learning implementation, the target $G$ is:\n",
        "$$G=\\begin{cases}\n",
        "r_{t+1}  & t+1 = T \n",
        "\\\\ r_{t+1} + \\gamma \\max_{a_{t+1}}Q(s_{t+1},a_{t+1}) & \\forall t+1 \\not= T \n",
        "\\end{cases}$$\n",
        "where $T$ is the time-step of the terminal state.\n",
        "* Here, I approximate the state-action pair, $s,a$  to a feature vector by:\n",
        " 1. concatenating the state & action into a vector, $(s,a)$\n",
        " 2. expanding the vector via a RBF kernel function, $\\phi(s,a)$\n",
        "* Then I model the state-action value $Q(s,a)$ via a linear function,\n",
        "$$\\hat{Q}_{\\pi}(s,a) = w^{T}\\phi(s,a)$$\n",
        "* The loss function, $J$, for a linear model would be squared-error,\n",
        "$$\\begin{aligned}\n",
        "J &= \\bigl(G - \\hat{Q}_{\\pi}(s,a) \\bigr)^{2}\n",
        "\\\\ &= \\bigl(G - w^{T}\\phi(s,a) \\bigr)^{2}\n",
        "\\end{aligned}$$\n",
        "and, if we let $x = \\phi(s,a)$, the derivative would therefore be\n",
        "$$\\nabla_{w}J = 2(G-w^{T}x)x$$\n",
        "* Using stochastic gradient ascent, I update the model parameters incrementally via\n",
        "$$w \\leftarrow w + \\alpha(G-w^{T}x)x$$\n",
        "\n",
        "\n",
        "---\n",
        "\n",
        "**note**\n",
        "* the RBF kernel function is $\\phi(x) = \\exp \\bigl( - \\beta ||x - x_{i}||^{2}  \\bigr)$, where $x$ is a vector with >1 entry.\n",
        "\n",
        "\n"
      ]
    },
    {
      "cell_type": "markdown",
      "metadata": {
        "id": "YCpR3bF_C1L6"
      },
      "source": [
        "# CREATING THE AGENT & HELPER FUNCTIONS"
      ]
    },
    {
      "cell_type": "code",
      "metadata": {
        "id": "Dhl84jAdqYW6"
      },
      "source": [
        "class CPAgent():\n",
        "  def __init__(self):\n",
        "    self.name = 'CPAgent'\n",
        "  \n",
        "  ##--------------------------------------------------------------------##\n",
        "  ## STARTUP FUNCTIONS ##\n",
        "\n",
        "  def sample_unknown_environment(self,env,n_eps=10000):\n",
        "    # get environment properties\n",
        "    self.StartingState = env.reset()\n",
        "    self.PreviousState = self.StartingState\n",
        "    self.CurrentState = self.StartingState\n",
        "\n",
        "    # define action space (manually defined)\n",
        "    self.ActionSpace = [0,1]\n",
        "    \n",
        "    # start sampling states, to get a representation of available states\n",
        "    self.Samples = []\n",
        "    for _ in range(n_eps):\n",
        "      s = env.reset()\n",
        "      done = False\n",
        "      while not done:\n",
        "        #draw action\n",
        "        act = env.action_space.sample()\n",
        "        \n",
        "        # record sample\n",
        "        sa = tuple(list(s) + [act])\n",
        "        self.Samples.append(sa)\n",
        "\n",
        "        #play action, get observations:\n",
        "        s, _, done, _ = env.step(act)\n",
        "      \n",
        "      #at terminal state, concatenate into samples but with dummy action\n",
        "      sa = tuple(list(s) + [env.action_space.sample()])\n",
        "      self.Samples.append(sa)\n",
        "  \n",
        "\n",
        "  ##--------------------------------------------------------------------##\n",
        "  ## FUNCTION APPROXIMATION (LINEAR) ##\n",
        "\n",
        "  def approximate_model(self):\n",
        "    self.Featurizer = RBFSampler()\n",
        "    self.Featurizer.fit(self.Samples)\n",
        "    #we initialise weights of the linear model to 0\n",
        "    self.FuncWeights = np.zeros(self.Featurizer.n_components) \n",
        "     \n",
        "  ##--------------------------------------------------------------------##\n",
        "  ## PREDICT Q-VALUES\n",
        "  \n",
        "  def predictQ(self,state,action): \n",
        "    '''\n",
        "    this returns the quantities necessary to calculate the gradient\n",
        "    1. dot product of state-action vector\n",
        "    2. the (RBF transformed) state-action vector\n",
        "    '''\n",
        "    sa = tuple(list(state) + [action])\n",
        "    x = self.Featurizer.transform([sa])[0]\n",
        "    return x @ self.FuncWeights, x\n",
        "  \n",
        "  ##--------------------------------------------------------------------##\n",
        "  ## POLICY ##\n",
        "  \n",
        "  # epsilon-greedy policy\n",
        "  def epsilon_greedy(self,state, eps=.1):\n",
        "    #for majority of the time\n",
        "    if np.random.rand() < (1 - eps):\n",
        "      #first, get maximum Q-value\n",
        "      values = []\n",
        "      max_val = float('-inf')\n",
        "      for act in self.ActionSpace:\n",
        "        sa = tuple(list(state) + [act])\n",
        "        x = self.Featurizer.transform([sa])[0]\n",
        "        val = x @ self.FuncWeights\n",
        "        values.append((act,val))\n",
        "        max_val = max(val,max_val)\n",
        "      \n",
        "      #then, find actions which are at the maximum value\n",
        "      max_a = []\n",
        "      for act,val in values:\n",
        "        if val == max_val:\n",
        "          max_a.append(act)\n",
        "      \n",
        "      # return best action, with ties broken randomly\n",
        "      return np.random.choice(max_a) \n",
        "\n",
        "    #otherwise random action\n",
        "    else: \n",
        "      return np.random.choice(self.ActionSpace)\n",
        " \n",
        "  ##--------------------------------------------------------------------##\n",
        "  ## RESETS ##\n",
        "  \n",
        "  ## reset agent location back to start\n",
        "  def reset_agent(self,state):\n",
        "    self.CurrentState = state\n",
        "\n"
      ],
      "execution_count": null,
      "outputs": []
    },
    {
      "cell_type": "code",
      "metadata": {
        "id": "9X6BVUWtqYZW"
      },
      "source": [
        "#helper functions\n",
        "def watch_agent(agent,env,ax):\n",
        "  done = False\n",
        "  episode_reward = 0\n",
        "  s = env.reset()\n",
        "  img = ax.imshow(env.render(mode='rgb_array'))\n",
        "  while not done:\n",
        "    a = agent.epsilon_greedy(s)\n",
        "    s,r,done,_ = env.step(a)\n",
        "\n",
        "    img.set_data(env.render(mode='rgb_array'))\n",
        "    ax.axis('off')\n",
        "    display.display(plt.gcf())\n",
        "    display.clear_output(wait=True)\n",
        "    episode_reward += r\n",
        "  print(\"Agent balanced the cartpole for %d steps.\" % episode_reward)\n"
      ],
      "execution_count": null,
      "outputs": []
    },
    {
      "cell_type": "markdown",
      "metadata": {
        "id": "2dKNOLeDAlJi"
      },
      "source": [
        "# BALANCING CARTPOLE BY IMPLEMENTING Q-LEARNING"
      ]
    },
    {
      "cell_type": "code",
      "metadata": {
        "id": "UYKKjDRfArMg"
      },
      "source": [
        "#setup environment\n",
        "env = gym.make('CartPole-v1')\n",
        "env.theta_threshold_radians = 24 * 2 * math.pi / 360 #change manually degree of pole angle for episode termination (may not work)\n",
        "env._max_episode_steps = 800 #manually increase the number of time steps before episode termination\n",
        "\n",
        "#instantiate agent\n",
        "agent = CPAgent()\n",
        "\n",
        "#set learning hyperparameters\n",
        "GAMMA = 0.95 #discount factor of the return\n",
        "ALPHA = 0.05 #learning rate"
      ],
      "execution_count": null,
      "outputs": []
    },
    {
      "cell_type": "code",
      "metadata": {
        "colab": {
          "base_uri": "https://localhost:8080/",
          "height": 265
        },
        "id": "CjhaHAutAxqI",
        "outputId": "1d3b8c98-6375-49bd-aa2e-6c427082e1f0"
      },
      "source": [
        "## let agent explore the environment for a few rounds, just to get a sense of possible state spaces/state-action pairs\n",
        "# first, let agent play a few rounds in the environment\n",
        "agent.sample_unknown_environment(env)\n",
        "\n",
        "#once environment has been sampled, approximate state/action values by a linear function\n",
        "agent.approximate_model()\n",
        "\n",
        "#now, we observe how an untrained agent balances the cartpole. Note that this performace should be bad.\n",
        "_, ax1 = plt.subplots(1, 1)\n",
        "watch_agent(agent,env,ax1)\n",
        "time.sleep(3)\n",
        "env.close() #closes render"
      ],
      "execution_count": null,
      "outputs": [
        {
          "output_type": "stream",
          "name": "stdout",
          "text": [
            "Agent balanced the cartpole for 13 steps.\n"
          ]
        },
        {
          "output_type": "display_data",
          "data": {
            "image/png": "[encoded data removed]",
            "text/plain": [
              "<Figure size 432x288 with 1 Axes>"
            ]
          },
          "metadata": {
            "needs_background": "light"
          }
        }
      ]
    },
    {
      "cell_type": "code",
      "metadata": {
        "colab": {
          "base_uri": "https://localhost:8080/",
          "height": 298
        },
        "id": "1SwThcuPqiLX",
        "outputId": "d3290e8c-8c30-485f-d8bf-8f929af4f05c"
      },
      "source": [
        "## Agent starts learning here\n",
        "\n",
        "# keep track of reward per episode\n",
        "reward_per_episode = []\n",
        "\n",
        "#let agent learn over 2,000 episodes\n",
        "for it in range(2000):\n",
        "\n",
        "  #reset before every episode\n",
        "  s = env.reset()\n",
        "  agent.reset_agent(s)\n",
        "  done = False\n",
        "  \n",
        "  #start playing\n",
        "  episode_reward = 0\n",
        "  while not done:\n",
        "    #keep record of previous state\n",
        "    agent.PreviousState = agent.CurrentState\n",
        "\n",
        "    #get action\n",
        "    action = agent.epsilon_greedy(agent.CurrentState) #action from current state (according to policy)\n",
        "\n",
        "    #get next state, move & obtain reward\n",
        "    next_state, reward, done, _ = env.step(action)\n",
        "    agent.CurrentState = next_state #update agent's representation of the new state\n",
        "    \n",
        "    # get target\n",
        "    if done:\n",
        "      target = reward\n",
        "    else:\n",
        "      Qs2 = []\n",
        "      for next_action in agent.ActionSpace: # loop through all actions to obtain all possible values of Q(s',a')\n",
        "        tempQ, _ = agent.predictQ(agent.CurrentState,next_action)\n",
        "        Qs2.append(tempQ) \n",
        "      target = reward + GAMMA * max(Qs2)\n",
        "\n",
        "    # update model parameters of the state-value approximator\n",
        "    Qs, svec = agent.predictQ(agent.PreviousState,action) #svec is state-vector from previous state & action\n",
        "    agent.FuncWeights += ALPHA * (target - Qs) * svec #the gradient is (target - Qs) * svec\n",
        "\n",
        "    # accumulate reward & state visit counts\n",
        "    episode_reward += reward\n",
        "\n",
        "  #end of episode\n",
        "  reward_per_episode.append(episode_reward)\n",
        "\n",
        "  #early exit if model has trained sufficiently\n",
        "  if it > 20 and np.mean(reward_per_episode[-20:]) >= 400:\n",
        "    print('Early exit')\n",
        "    break\n",
        "\n",
        "# plot reward over time\n",
        "_ = plt.plot(reward_per_episode)\n",
        "_ = plt.title('plot of reward per episode')"
      ],
      "execution_count": null,
      "outputs": [
        {
          "output_type": "stream",
          "name": "stdout",
          "text": [
            "Early exit\n"
          ]
        },
        {
          "output_type": "display_data",
          "data": {
            "image/png": "[encoded data removed]",
            "text/plain": [
              "<Figure size 432x288 with 1 Axes>"
            ]
          },
          "metadata": {
            "needs_background": "light"
          }
        }
      ]
    },
    {
      "cell_type": "code",
      "metadata": {
        "colab": {
          "base_uri": "https://localhost:8080/",
          "height": 265
        },
        "id": "2dAwah0rBXFr",
        "outputId": "e3cc2c18-dcb0-4efd-d2b1-90e1c7b0bda6"
      },
      "source": [
        "#now, we observe how the trained agent balances the cartpole. \n",
        "_, ax2 = plt.subplots(1, 1)\n",
        "watch_agent(agent,env,ax2)\n",
        "time.sleep(3)\n",
        "env.close()"
      ],
      "execution_count": null,
      "outputs": [
        {
          "output_type": "stream",
          "name": "stdout",
          "text": [
            "Agent balanced the cartpole for 800 steps.\n"
          ]
        },
        {
          "output_type": "display_data",
          "data": {
            "image/png": "[encoded data removed]",
            "text/plain": [
              "<Figure size 432x288 with 1 Axes>"
            ]
          },
          "metadata": {
            "needs_background": "light"
          }
        }
      ]
    },
    {
      "cell_type": "markdown",
      "metadata": {
        "id": "tF-HDR8sDBTM"
      },
      "source": [
        "# MISCELLANEOUS"
      ]
    },
    {
      "cell_type": "markdown",
      "metadata": {
        "id": "apgP5ufl880P"
      },
      "source": [
        "Other approaches to try\n",
        "\n",
        "1. MC learning, SARSA\n",
        "2. Predict $\\hat{Q}(s,a) = w^{T}\\phi(s)$, and the prediction is a vector of the number of discrete action, i.e. $\\hat{Q}(s,a) \\in \\Bbb{R}^{|\\mathcal{A}|}$"
      ]
    },
    {
      "cell_type": "code",
      "metadata": {
        "id": "c5fFozMzwUc5"
      },
      "source": [
        "def test_agent(agent,env,n_episodes = 20):\n",
        "  reward_per_episode = np.zeros(n_episodes)\n",
        "  for it in range(n_episodes):\n",
        "    done = False\n",
        "    episode_reward = 0\n",
        "    s = env.reset()\n",
        "    while not done:\n",
        "      a = agent.epsilon_greedy(s,eps=0) #entirely greedy\n",
        "      s,r,done,_ = env.step(a)\n",
        "      episode_reward += r\n",
        "    reward_per_episode[it] = episode_reward\n",
        "  return np.mean(reward_per_episode)"
      ],
      "execution_count": null,
      "outputs": []
    },
    {
      "cell_type": "markdown",
      "metadata": {
        "id": "ap0W4Orm5Q4L"
      },
      "source": [
        "# credits\n",
        "\n",
        "\n",
        "https://www.udemy.com/artificial-intelligence-reinforcement-learning-in-python"
      ]
    }
  ]
}